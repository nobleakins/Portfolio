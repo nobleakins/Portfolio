{
 "cells": [
  {
   "cell_type": "markdown",
   "metadata": {
    "id": "cyCKjAk5laEc"
   },
   "source": [
    "Importing the necessary libraries needed for the project"
   ]
  },
  {
   "cell_type": "code",
   "execution_count": 289,
   "metadata": {
    "executionInfo": {
     "elapsed": 325,
     "status": "ok",
     "timestamp": 1645192753069,
     "user": {
      "displayName": "Akinsola Amudah",
      "photoUrl": "https://lh3.googleusercontent.com/a-/AOh14GhaGpO_NfwGsAReqgHVMP8daYhpObnevoOrkAP3Hg=s64",
      "userId": "00854507567321069616"
     },
     "user_tz": 0
    },
    "id": "a8f2Fi4flSQn"
   },
   "outputs": [],
   "source": [
    "import pandas as pd\n",
    "import matplotlib.pyplot as plt\n",
    "%matplotlib inline\n",
    "import numpy as np\n",
    "import itertools\n",
    "from sklearn.metrics import mean_squared_error\n",
    "import statsmodels.api as sm\n",
    "import itertools\n",
    "from statsmodels.tsa.arima_model import ARIMA\n",
    "from statsmodels.tsa.api import ExponentialSmoothing, SimpleExpSmoothing, Holt\n",
    "from scipy.spatial.distance import cdist\n",
    "import statsmodels\n",
    "from datetime import datetime \n",
    "import seaborn as sns\n",
    "from statsmodels.tsa.statespace.sarimax import SARIMAX\n",
    "import warnings"
   ]
  },
  {
   "cell_type": "code",
   "execution_count": 290,
   "metadata": {
    "executionInfo": {
     "elapsed": 109,
     "status": "ok",
     "timestamp": 1645192753758,
     "user": {
      "displayName": "Akinsola Amudah",
      "photoUrl": "https://lh3.googleusercontent.com/a-/AOh14GhaGpO_NfwGsAReqgHVMP8daYhpObnevoOrkAP3Hg=s64",
      "userId": "00854507567321069616"
     },
     "user_tz": 0
    },
    "id": "VHxbo64Llvo1"
   },
   "outputs": [],
   "source": [
    "# filter unwanted warning\n",
    "warnings.filterwarnings('ignore')"
   ]
  },
  {
   "cell_type": "markdown",
   "metadata": {
    "id": "b796x-4omAQW"
   },
   "source": [
    "Loading and visualizing the data"
   ]
  },
  {
   "cell_type": "code",
   "execution_count": 291,
   "metadata": {
    "executionInfo": {
     "elapsed": 108,
     "status": "ok",
     "timestamp": 1645192753760,
     "user": {
      "displayName": "Akinsola Amudah",
      "photoUrl": "https://lh3.googleusercontent.com/a-/AOh14GhaGpO_NfwGsAReqgHVMP8daYhpObnevoOrkAP3Hg=s64",
      "userId": "00854507567321069616"
     },
     "user_tz": 0
    },
    "id": "trXJGFRLmBKz"
   },
   "outputs": [],
   "source": [
    "df = pd.read_csv('PT_Train.csv')"
   ]
  },
  {
   "cell_type": "code",
   "execution_count": 292,
   "metadata": {
    "colab": {
     "base_uri": "https://localhost:8080/",
     "height": 206
    },
    "executionInfo": {
     "elapsed": 107,
     "status": "ok",
     "timestamp": 1645192753761,
     "user": {
      "displayName": "Akinsola Amudah",
      "photoUrl": "https://lh3.googleusercontent.com/a-/AOh14GhaGpO_NfwGsAReqgHVMP8daYhpObnevoOrkAP3Hg=s64",
      "userId": "00854507567321069616"
     },
     "user_tz": 0
    },
    "id": "vcUIeFezmN0_",
    "outputId": "574beb3a-446d-443f-9769-5885a3523d7a"
   },
   "outputs": [
    {
     "data": {
      "text/html": [
       "\n",
       "  <div id=\"df-b5ce173b-60a2-4fdb-8440-d6efa806e66b\">\n",
       "    <div class=\"colab-df-container\">\n",
       "      <div>\n",
       "<style scoped>\n",
       "    .dataframe tbody tr th:only-of-type {\n",
       "        vertical-align: middle;\n",
       "    }\n",
       "\n",
       "    .dataframe tbody tr th {\n",
       "        vertical-align: top;\n",
       "    }\n",
       "\n",
       "    .dataframe thead th {\n",
       "        text-align: right;\n",
       "    }\n",
       "</style>\n",
       "<table border=\"1\" class=\"dataframe\">\n",
       "  <thead>\n",
       "    <tr style=\"text-align: right;\">\n",
       "      <th></th>\n",
       "      <th>Timestamp (GMT)</th>\n",
       "      <th>Lifetouch Heart Rate</th>\n",
       "      <th>Lifetouch Respiration Rate</th>\n",
       "      <th>Oximeter SpO2</th>\n",
       "      <th>Oximeter Pulse</th>\n",
       "    </tr>\n",
       "  </thead>\n",
       "  <tbody>\n",
       "    <tr>\n",
       "      <th>0</th>\n",
       "      <td>17/08/2015 15:09</td>\n",
       "      <td>139</td>\n",
       "      <td>41</td>\n",
       "      <td>NaN</td>\n",
       "      <td>NaN</td>\n",
       "    </tr>\n",
       "    <tr>\n",
       "      <th>1</th>\n",
       "      <td>17/08/2015 15:10</td>\n",
       "      <td>144</td>\n",
       "      <td>40</td>\n",
       "      <td>92.0</td>\n",
       "      <td>140.0</td>\n",
       "    </tr>\n",
       "    <tr>\n",
       "      <th>2</th>\n",
       "      <td>17/08/2015 15:11</td>\n",
       "      <td>140</td>\n",
       "      <td>42</td>\n",
       "      <td>89.0</td>\n",
       "      <td>144.0</td>\n",
       "    </tr>\n",
       "    <tr>\n",
       "      <th>3</th>\n",
       "      <td>17/08/2015 15:12</td>\n",
       "      <td>138</td>\n",
       "      <td>45</td>\n",
       "      <td>93.0</td>\n",
       "      <td>141.0</td>\n",
       "    </tr>\n",
       "    <tr>\n",
       "      <th>4</th>\n",
       "      <td>17/08/2015 15:13</td>\n",
       "      <td>133</td>\n",
       "      <td>42</td>\n",
       "      <td>94.0</td>\n",
       "      <td>134.0</td>\n",
       "    </tr>\n",
       "  </tbody>\n",
       "</table>\n",
       "</div>\n",
       "      <button class=\"colab-df-convert\" onclick=\"convertToInteractive('df-b5ce173b-60a2-4fdb-8440-d6efa806e66b')\"\n",
       "              title=\"Convert this dataframe to an interactive table.\"\n",
       "              style=\"display:none;\">\n",
       "        \n",
       "  <svg xmlns=\"http://www.w3.org/2000/svg\" height=\"24px\"viewBox=\"0 0 24 24\"\n",
       "       width=\"24px\">\n",
       "    <path d=\"M0 0h24v24H0V0z\" fill=\"none\"/>\n",
       "    <path d=\"M18.56 5.44l.94 2.06.94-2.06 2.06-.94-2.06-.94-.94-2.06-.94 2.06-2.06.94zm-11 1L8.5 8.5l.94-2.06 2.06-.94-2.06-.94L8.5 2.5l-.94 2.06-2.06.94zm10 10l.94 2.06.94-2.06 2.06-.94-2.06-.94-.94-2.06-.94 2.06-2.06.94z\"/><path d=\"M17.41 7.96l-1.37-1.37c-.4-.4-.92-.59-1.43-.59-.52 0-1.04.2-1.43.59L10.3 9.45l-7.72 7.72c-.78.78-.78 2.05 0 2.83L4 21.41c.39.39.9.59 1.41.59.51 0 1.02-.2 1.41-.59l7.78-7.78 2.81-2.81c.8-.78.8-2.07 0-2.86zM5.41 20L4 18.59l7.72-7.72 1.47 1.35L5.41 20z\"/>\n",
       "  </svg>\n",
       "      </button>\n",
       "      \n",
       "  <style>\n",
       "    .colab-df-container {\n",
       "      display:flex;\n",
       "      flex-wrap:wrap;\n",
       "      gap: 12px;\n",
       "    }\n",
       "\n",
       "    .colab-df-convert {\n",
       "      background-color: #E8F0FE;\n",
       "      border: none;\n",
       "      border-radius: 50%;\n",
       "      cursor: pointer;\n",
       "      display: none;\n",
       "      fill: #1967D2;\n",
       "      height: 32px;\n",
       "      padding: 0 0 0 0;\n",
       "      width: 32px;\n",
       "    }\n",
       "\n",
       "    .colab-df-convert:hover {\n",
       "      background-color: #E2EBFA;\n",
       "      box-shadow: 0px 1px 2px rgba(60, 64, 67, 0.3), 0px 1px 3px 1px rgba(60, 64, 67, 0.15);\n",
       "      fill: #174EA6;\n",
       "    }\n",
       "\n",
       "    [theme=dark] .colab-df-convert {\n",
       "      background-color: #3B4455;\n",
       "      fill: #D2E3FC;\n",
       "    }\n",
       "\n",
       "    [theme=dark] .colab-df-convert:hover {\n",
       "      background-color: #434B5C;\n",
       "      box-shadow: 0px 1px 3px 1px rgba(0, 0, 0, 0.15);\n",
       "      filter: drop-shadow(0px 1px 2px rgba(0, 0, 0, 0.3));\n",
       "      fill: #FFFFFF;\n",
       "    }\n",
       "  </style>\n",
       "\n",
       "      <script>\n",
       "        const buttonEl =\n",
       "          document.querySelector('#df-b5ce173b-60a2-4fdb-8440-d6efa806e66b button.colab-df-convert');\n",
       "        buttonEl.style.display =\n",
       "          google.colab.kernel.accessAllowed ? 'block' : 'none';\n",
       "\n",
       "        async function convertToInteractive(key) {\n",
       "          const element = document.querySelector('#df-b5ce173b-60a2-4fdb-8440-d6efa806e66b');\n",
       "          const dataTable =\n",
       "            await google.colab.kernel.invokeFunction('convertToInteractive',\n",
       "                                                     [key], {});\n",
       "          if (!dataTable) return;\n",
       "\n",
       "          const docLinkHtml = 'Like what you see? Visit the ' +\n",
       "            '<a target=\"_blank\" href=https://colab.research.google.com/notebooks/data_table.ipynb>data table notebook</a>'\n",
       "            + ' to learn more about interactive tables.';\n",
       "          element.innerHTML = '';\n",
       "          dataTable['output_type'] = 'display_data';\n",
       "          await google.colab.output.renderOutput(dataTable, element);\n",
       "          const docLink = document.createElement('div');\n",
       "          docLink.innerHTML = docLinkHtml;\n",
       "          element.appendChild(docLink);\n",
       "        }\n",
       "      </script>\n",
       "    </div>\n",
       "  </div>\n",
       "  "
      ],
      "text/plain": [
       "    Timestamp (GMT)  Lifetouch Heart Rate  ...  Oximeter SpO2  Oximeter Pulse\n",
       "0  17/08/2015 15:09                   139  ...            NaN             NaN\n",
       "1  17/08/2015 15:10                   144  ...           92.0           140.0\n",
       "2  17/08/2015 15:11                   140  ...           89.0           144.0\n",
       "3  17/08/2015 15:12                   138  ...           93.0           141.0\n",
       "4  17/08/2015 15:13                   133  ...           94.0           134.0\n",
       "\n",
       "[5 rows x 5 columns]"
      ]
     },
     "execution_count": 292,
     "metadata": {},
     "output_type": "execute_result"
    }
   ],
   "source": [
    "df.head()"
   ]
  },
  {
   "cell_type": "code",
   "execution_count": 293,
   "metadata": {
    "executionInfo": {
     "elapsed": 106,
     "status": "ok",
     "timestamp": 1645192753762,
     "user": {
      "displayName": "Akinsola Amudah",
      "photoUrl": "https://lh3.googleusercontent.com/a-/AOh14GhaGpO_NfwGsAReqgHVMP8daYhpObnevoOrkAP3Hg=s64",
      "userId": "00854507567321069616"
     },
     "user_tz": 0
    },
    "id": "JNoJA-KbmjTi"
   },
   "outputs": [],
   "source": [
    "# Dropping Lifetouch Respiration Rate, Oximeter SpO2 and Oximeter Pulse since our focus is only on Lifetouch Heart Rate\n",
    "df = df.drop(columns=[\"Lifetouch Respiration Rate\",\"Oximeter SpO2\",\"Oximeter Pulse\"], axis=1, inplace=False)"
   ]
  },
  {
   "cell_type": "code",
   "execution_count": 294,
   "metadata": {
    "colab": {
     "base_uri": "https://localhost:8080/",
     "height": 206
    },
    "executionInfo": {
     "elapsed": 107,
     "status": "ok",
     "timestamp": 1645192753764,
     "user": {
      "displayName": "Akinsola Amudah",
      "photoUrl": "https://lh3.googleusercontent.com/a-/AOh14GhaGpO_NfwGsAReqgHVMP8daYhpObnevoOrkAP3Hg=s64",
      "userId": "00854507567321069616"
     },
     "user_tz": 0
    },
    "id": "gIgbgjdMmoIF",
    "outputId": "054c7568-361b-4dc2-ca03-4c324054d39c"
   },
   "outputs": [
    {
     "data": {
      "text/html": [
       "\n",
       "  <div id=\"df-af74d93c-ce1b-4c73-b551-7ef71abf0c09\">\n",
       "    <div class=\"colab-df-container\">\n",
       "      <div>\n",
       "<style scoped>\n",
       "    .dataframe tbody tr th:only-of-type {\n",
       "        vertical-align: middle;\n",
       "    }\n",
       "\n",
       "    .dataframe tbody tr th {\n",
       "        vertical-align: top;\n",
       "    }\n",
       "\n",
       "    .dataframe thead th {\n",
       "        text-align: right;\n",
       "    }\n",
       "</style>\n",
       "<table border=\"1\" class=\"dataframe\">\n",
       "  <thead>\n",
       "    <tr style=\"text-align: right;\">\n",
       "      <th></th>\n",
       "      <th>Timestamp (GMT)</th>\n",
       "      <th>Lifetouch Heart Rate</th>\n",
       "    </tr>\n",
       "  </thead>\n",
       "  <tbody>\n",
       "    <tr>\n",
       "      <th>0</th>\n",
       "      <td>17/08/2015 15:09</td>\n",
       "      <td>139</td>\n",
       "    </tr>\n",
       "    <tr>\n",
       "      <th>1</th>\n",
       "      <td>17/08/2015 15:10</td>\n",
       "      <td>144</td>\n",
       "    </tr>\n",
       "    <tr>\n",
       "      <th>2</th>\n",
       "      <td>17/08/2015 15:11</td>\n",
       "      <td>140</td>\n",
       "    </tr>\n",
       "    <tr>\n",
       "      <th>3</th>\n",
       "      <td>17/08/2015 15:12</td>\n",
       "      <td>138</td>\n",
       "    </tr>\n",
       "    <tr>\n",
       "      <th>4</th>\n",
       "      <td>17/08/2015 15:13</td>\n",
       "      <td>133</td>\n",
       "    </tr>\n",
       "  </tbody>\n",
       "</table>\n",
       "</div>\n",
       "      <button class=\"colab-df-convert\" onclick=\"convertToInteractive('df-af74d93c-ce1b-4c73-b551-7ef71abf0c09')\"\n",
       "              title=\"Convert this dataframe to an interactive table.\"\n",
       "              style=\"display:none;\">\n",
       "        \n",
       "  <svg xmlns=\"http://www.w3.org/2000/svg\" height=\"24px\"viewBox=\"0 0 24 24\"\n",
       "       width=\"24px\">\n",
       "    <path d=\"M0 0h24v24H0V0z\" fill=\"none\"/>\n",
       "    <path d=\"M18.56 5.44l.94 2.06.94-2.06 2.06-.94-2.06-.94-.94-2.06-.94 2.06-2.06.94zm-11 1L8.5 8.5l.94-2.06 2.06-.94-2.06-.94L8.5 2.5l-.94 2.06-2.06.94zm10 10l.94 2.06.94-2.06 2.06-.94-2.06-.94-.94-2.06-.94 2.06-2.06.94z\"/><path d=\"M17.41 7.96l-1.37-1.37c-.4-.4-.92-.59-1.43-.59-.52 0-1.04.2-1.43.59L10.3 9.45l-7.72 7.72c-.78.78-.78 2.05 0 2.83L4 21.41c.39.39.9.59 1.41.59.51 0 1.02-.2 1.41-.59l7.78-7.78 2.81-2.81c.8-.78.8-2.07 0-2.86zM5.41 20L4 18.59l7.72-7.72 1.47 1.35L5.41 20z\"/>\n",
       "  </svg>\n",
       "      </button>\n",
       "      \n",
       "  <style>\n",
       "    .colab-df-container {\n",
       "      display:flex;\n",
       "      flex-wrap:wrap;\n",
       "      gap: 12px;\n",
       "    }\n",
       "\n",
       "    .colab-df-convert {\n",
       "      background-color: #E8F0FE;\n",
       "      border: none;\n",
       "      border-radius: 50%;\n",
       "      cursor: pointer;\n",
       "      display: none;\n",
       "      fill: #1967D2;\n",
       "      height: 32px;\n",
       "      padding: 0 0 0 0;\n",
       "      width: 32px;\n",
       "    }\n",
       "\n",
       "    .colab-df-convert:hover {\n",
       "      background-color: #E2EBFA;\n",
       "      box-shadow: 0px 1px 2px rgba(60, 64, 67, 0.3), 0px 1px 3px 1px rgba(60, 64, 67, 0.15);\n",
       "      fill: #174EA6;\n",
       "    }\n",
       "\n",
       "    [theme=dark] .colab-df-convert {\n",
       "      background-color: #3B4455;\n",
       "      fill: #D2E3FC;\n",
       "    }\n",
       "\n",
       "    [theme=dark] .colab-df-convert:hover {\n",
       "      background-color: #434B5C;\n",
       "      box-shadow: 0px 1px 3px 1px rgba(0, 0, 0, 0.15);\n",
       "      filter: drop-shadow(0px 1px 2px rgba(0, 0, 0, 0.3));\n",
       "      fill: #FFFFFF;\n",
       "    }\n",
       "  </style>\n",
       "\n",
       "      <script>\n",
       "        const buttonEl =\n",
       "          document.querySelector('#df-af74d93c-ce1b-4c73-b551-7ef71abf0c09 button.colab-df-convert');\n",
       "        buttonEl.style.display =\n",
       "          google.colab.kernel.accessAllowed ? 'block' : 'none';\n",
       "\n",
       "        async function convertToInteractive(key) {\n",
       "          const element = document.querySelector('#df-af74d93c-ce1b-4c73-b551-7ef71abf0c09');\n",
       "          const dataTable =\n",
       "            await google.colab.kernel.invokeFunction('convertToInteractive',\n",
       "                                                     [key], {});\n",
       "          if (!dataTable) return;\n",
       "\n",
       "          const docLinkHtml = 'Like what you see? Visit the ' +\n",
       "            '<a target=\"_blank\" href=https://colab.research.google.com/notebooks/data_table.ipynb>data table notebook</a>'\n",
       "            + ' to learn more about interactive tables.';\n",
       "          element.innerHTML = '';\n",
       "          dataTable['output_type'] = 'display_data';\n",
       "          await google.colab.output.renderOutput(dataTable, element);\n",
       "          const docLink = document.createElement('div');\n",
       "          docLink.innerHTML = docLinkHtml;\n",
       "          element.appendChild(docLink);\n",
       "        }\n",
       "      </script>\n",
       "    </div>\n",
       "  </div>\n",
       "  "
      ],
      "text/plain": [
       "    Timestamp (GMT)  Lifetouch Heart Rate\n",
       "0  17/08/2015 15:09                   139\n",
       "1  17/08/2015 15:10                   144\n",
       "2  17/08/2015 15:11                   140\n",
       "3  17/08/2015 15:12                   138\n",
       "4  17/08/2015 15:13                   133"
      ]
     },
     "execution_count": 294,
     "metadata": {},
     "output_type": "execute_result"
    }
   ],
   "source": [
    "df.head()"
   ]
  },
  {
   "cell_type": "code",
   "execution_count": 295,
   "metadata": {
    "executionInfo": {
     "elapsed": 107,
     "status": "ok",
     "timestamp": 1645192753766,
     "user": {
      "displayName": "Akinsola Amudah",
      "photoUrl": "https://lh3.googleusercontent.com/a-/AOh14GhaGpO_NfwGsAReqgHVMP8daYhpObnevoOrkAP3Hg=s64",
      "userId": "00854507567321069616"
     },
     "user_tz": 0
    },
    "id": "VOmuJTafnDKw"
   },
   "outputs": [],
   "source": [
    "#Converting Minute to integer\n",
    "df[\"Minutes-No\"]= list(range(0,len(df[\"Timestamp (GMT)\"])))"
   ]
  },
  {
   "cell_type": "code",
   "execution_count": 296,
   "metadata": {
    "executionInfo": {
     "elapsed": 109,
     "status": "ok",
     "timestamp": 1645192753769,
     "user": {
      "displayName": "Akinsola Amudah",
      "photoUrl": "https://lh3.googleusercontent.com/a-/AOh14GhaGpO_NfwGsAReqgHVMP8daYhpObnevoOrkAP3Hg=s64",
      "userId": "00854507567321069616"
     },
     "user_tz": 0
    },
    "id": "-VKNBrBanRUp"
   },
   "outputs": [],
   "source": [
    "#Converting the data type and indexing datetime\n",
    "con=df['Timestamp (GMT)']\n",
    "df['Timestamp (GMT)']=pd.to_datetime(df['Timestamp (GMT)'])\n",
    "df.set_index('Timestamp (GMT)', inplace=True)"
   ]
  },
  {
   "cell_type": "code",
   "execution_count": 297,
   "metadata": {
    "colab": {
     "base_uri": "https://localhost:8080/",
     "height": 238
    },
    "executionInfo": {
     "elapsed": 110,
     "status": "ok",
     "timestamp": 1645192753770,
     "user": {
      "displayName": "Akinsola Amudah",
      "photoUrl": "https://lh3.googleusercontent.com/a-/AOh14GhaGpO_NfwGsAReqgHVMP8daYhpObnevoOrkAP3Hg=s64",
      "userId": "00854507567321069616"
     },
     "user_tz": 0
    },
    "id": "G06UBP9Yntjs",
    "outputId": "e59012e5-9a6b-4bbf-f0e1-19f89c482dd2"
   },
   "outputs": [
    {
     "data": {
      "text/html": [
       "\n",
       "  <div id=\"df-a09fe670-9b56-4d05-9d81-309f2488b89b\">\n",
       "    <div class=\"colab-df-container\">\n",
       "      <div>\n",
       "<style scoped>\n",
       "    .dataframe tbody tr th:only-of-type {\n",
       "        vertical-align: middle;\n",
       "    }\n",
       "\n",
       "    .dataframe tbody tr th {\n",
       "        vertical-align: top;\n",
       "    }\n",
       "\n",
       "    .dataframe thead th {\n",
       "        text-align: right;\n",
       "    }\n",
       "</style>\n",
       "<table border=\"1\" class=\"dataframe\">\n",
       "  <thead>\n",
       "    <tr style=\"text-align: right;\">\n",
       "      <th></th>\n",
       "      <th>Lifetouch Heart Rate</th>\n",
       "      <th>Minutes-No</th>\n",
       "    </tr>\n",
       "    <tr>\n",
       "      <th>Timestamp (GMT)</th>\n",
       "      <th></th>\n",
       "      <th></th>\n",
       "    </tr>\n",
       "  </thead>\n",
       "  <tbody>\n",
       "    <tr>\n",
       "      <th>2015-08-17 15:09:00</th>\n",
       "      <td>139</td>\n",
       "      <td>0</td>\n",
       "    </tr>\n",
       "    <tr>\n",
       "      <th>2015-08-17 15:10:00</th>\n",
       "      <td>144</td>\n",
       "      <td>1</td>\n",
       "    </tr>\n",
       "    <tr>\n",
       "      <th>2015-08-17 15:11:00</th>\n",
       "      <td>140</td>\n",
       "      <td>2</td>\n",
       "    </tr>\n",
       "    <tr>\n",
       "      <th>2015-08-17 15:12:00</th>\n",
       "      <td>138</td>\n",
       "      <td>3</td>\n",
       "    </tr>\n",
       "    <tr>\n",
       "      <th>2015-08-17 15:13:00</th>\n",
       "      <td>133</td>\n",
       "      <td>4</td>\n",
       "    </tr>\n",
       "  </tbody>\n",
       "</table>\n",
       "</div>\n",
       "      <button class=\"colab-df-convert\" onclick=\"convertToInteractive('df-a09fe670-9b56-4d05-9d81-309f2488b89b')\"\n",
       "              title=\"Convert this dataframe to an interactive table.\"\n",
       "              style=\"display:none;\">\n",
       "        \n",
       "  <svg xmlns=\"http://www.w3.org/2000/svg\" height=\"24px\"viewBox=\"0 0 24 24\"\n",
       "       width=\"24px\">\n",
       "    <path d=\"M0 0h24v24H0V0z\" fill=\"none\"/>\n",
       "    <path d=\"M18.56 5.44l.94 2.06.94-2.06 2.06-.94-2.06-.94-.94-2.06-.94 2.06-2.06.94zm-11 1L8.5 8.5l.94-2.06 2.06-.94-2.06-.94L8.5 2.5l-.94 2.06-2.06.94zm10 10l.94 2.06.94-2.06 2.06-.94-2.06-.94-.94-2.06-.94 2.06-2.06.94z\"/><path d=\"M17.41 7.96l-1.37-1.37c-.4-.4-.92-.59-1.43-.59-.52 0-1.04.2-1.43.59L10.3 9.45l-7.72 7.72c-.78.78-.78 2.05 0 2.83L4 21.41c.39.39.9.59 1.41.59.51 0 1.02-.2 1.41-.59l7.78-7.78 2.81-2.81c.8-.78.8-2.07 0-2.86zM5.41 20L4 18.59l7.72-7.72 1.47 1.35L5.41 20z\"/>\n",
       "  </svg>\n",
       "      </button>\n",
       "      \n",
       "  <style>\n",
       "    .colab-df-container {\n",
       "      display:flex;\n",
       "      flex-wrap:wrap;\n",
       "      gap: 12px;\n",
       "    }\n",
       "\n",
       "    .colab-df-convert {\n",
       "      background-color: #E8F0FE;\n",
       "      border: none;\n",
       "      border-radius: 50%;\n",
       "      cursor: pointer;\n",
       "      display: none;\n",
       "      fill: #1967D2;\n",
       "      height: 32px;\n",
       "      padding: 0 0 0 0;\n",
       "      width: 32px;\n",
       "    }\n",
       "\n",
       "    .colab-df-convert:hover {\n",
       "      background-color: #E2EBFA;\n",
       "      box-shadow: 0px 1px 2px rgba(60, 64, 67, 0.3), 0px 1px 3px 1px rgba(60, 64, 67, 0.15);\n",
       "      fill: #174EA6;\n",
       "    }\n",
       "\n",
       "    [theme=dark] .colab-df-convert {\n",
       "      background-color: #3B4455;\n",
       "      fill: #D2E3FC;\n",
       "    }\n",
       "\n",
       "    [theme=dark] .colab-df-convert:hover {\n",
       "      background-color: #434B5C;\n",
       "      box-shadow: 0px 1px 3px 1px rgba(0, 0, 0, 0.15);\n",
       "      filter: drop-shadow(0px 1px 2px rgba(0, 0, 0, 0.3));\n",
       "      fill: #FFFFFF;\n",
       "    }\n",
       "  </style>\n",
       "\n",
       "      <script>\n",
       "        const buttonEl =\n",
       "          document.querySelector('#df-a09fe670-9b56-4d05-9d81-309f2488b89b button.colab-df-convert');\n",
       "        buttonEl.style.display =\n",
       "          google.colab.kernel.accessAllowed ? 'block' : 'none';\n",
       "\n",
       "        async function convertToInteractive(key) {\n",
       "          const element = document.querySelector('#df-a09fe670-9b56-4d05-9d81-309f2488b89b');\n",
       "          const dataTable =\n",
       "            await google.colab.kernel.invokeFunction('convertToInteractive',\n",
       "                                                     [key], {});\n",
       "          if (!dataTable) return;\n",
       "\n",
       "          const docLinkHtml = 'Like what you see? Visit the ' +\n",
       "            '<a target=\"_blank\" href=https://colab.research.google.com/notebooks/data_table.ipynb>data table notebook</a>'\n",
       "            + ' to learn more about interactive tables.';\n",
       "          element.innerHTML = '';\n",
       "          dataTable['output_type'] = 'display_data';\n",
       "          await google.colab.output.renderOutput(dataTable, element);\n",
       "          const docLink = document.createElement('div');\n",
       "          docLink.innerHTML = docLinkHtml;\n",
       "          element.appendChild(docLink);\n",
       "        }\n",
       "      </script>\n",
       "    </div>\n",
       "  </div>\n",
       "  "
      ],
      "text/plain": [
       "                     Lifetouch Heart Rate  Minutes-No\n",
       "Timestamp (GMT)                                      \n",
       "2015-08-17 15:09:00                   139           0\n",
       "2015-08-17 15:10:00                   144           1\n",
       "2015-08-17 15:11:00                   140           2\n",
       "2015-08-17 15:12:00                   138           3\n",
       "2015-08-17 15:13:00                   133           4"
      ]
     },
     "execution_count": 297,
     "metadata": {},
     "output_type": "execute_result"
    }
   ],
   "source": [
    "df.head()"
   ]
  },
  {
   "cell_type": "code",
   "execution_count": 298,
   "metadata": {
    "colab": {
     "base_uri": "https://localhost:8080/",
     "height": 300
    },
    "executionInfo": {
     "elapsed": 109,
     "status": "ok",
     "timestamp": 1645192753771,
     "user": {
      "displayName": "Akinsola Amudah",
      "photoUrl": "https://lh3.googleusercontent.com/a-/AOh14GhaGpO_NfwGsAReqgHVMP8daYhpObnevoOrkAP3Hg=s64",
      "userId": "00854507567321069616"
     },
     "user_tz": 0
    },
    "id": "jGszFqf3oC6q",
    "outputId": "d4717f0f-fde1-4b7c-df0a-d8a5e8b1af2a"
   },
   "outputs": [
    {
     "data": {
      "text/html": [
       "\n",
       "  <div id=\"df-81d62b2e-0ada-4b37-8283-27f676f12c5a\">\n",
       "    <div class=\"colab-df-container\">\n",
       "      <div>\n",
       "<style scoped>\n",
       "    .dataframe tbody tr th:only-of-type {\n",
       "        vertical-align: middle;\n",
       "    }\n",
       "\n",
       "    .dataframe tbody tr th {\n",
       "        vertical-align: top;\n",
       "    }\n",
       "\n",
       "    .dataframe thead th {\n",
       "        text-align: right;\n",
       "    }\n",
       "</style>\n",
       "<table border=\"1\" class=\"dataframe\">\n",
       "  <thead>\n",
       "    <tr style=\"text-align: right;\">\n",
       "      <th></th>\n",
       "      <th>Lifetouch Heart Rate</th>\n",
       "      <th>Minutes-No</th>\n",
       "    </tr>\n",
       "  </thead>\n",
       "  <tbody>\n",
       "    <tr>\n",
       "      <th>count</th>\n",
       "      <td>226.000000</td>\n",
       "      <td>226.000000</td>\n",
       "    </tr>\n",
       "    <tr>\n",
       "      <th>mean</th>\n",
       "      <td>2315.615044</td>\n",
       "      <td>112.500000</td>\n",
       "    </tr>\n",
       "    <tr>\n",
       "      <th>std</th>\n",
       "      <td>11351.588825</td>\n",
       "      <td>65.384759</td>\n",
       "    </tr>\n",
       "    <tr>\n",
       "      <th>min</th>\n",
       "      <td>106.000000</td>\n",
       "      <td>0.000000</td>\n",
       "    </tr>\n",
       "    <tr>\n",
       "      <th>25%</th>\n",
       "      <td>136.000000</td>\n",
       "      <td>56.250000</td>\n",
       "    </tr>\n",
       "    <tr>\n",
       "      <th>50%</th>\n",
       "      <td>145.000000</td>\n",
       "      <td>112.500000</td>\n",
       "    </tr>\n",
       "    <tr>\n",
       "      <th>75%</th>\n",
       "      <td>156.000000</td>\n",
       "      <td>168.750000</td>\n",
       "    </tr>\n",
       "    <tr>\n",
       "      <th>max</th>\n",
       "      <td>61442.000000</td>\n",
       "      <td>225.000000</td>\n",
       "    </tr>\n",
       "  </tbody>\n",
       "</table>\n",
       "</div>\n",
       "      <button class=\"colab-df-convert\" onclick=\"convertToInteractive('df-81d62b2e-0ada-4b37-8283-27f676f12c5a')\"\n",
       "              title=\"Convert this dataframe to an interactive table.\"\n",
       "              style=\"display:none;\">\n",
       "        \n",
       "  <svg xmlns=\"http://www.w3.org/2000/svg\" height=\"24px\"viewBox=\"0 0 24 24\"\n",
       "       width=\"24px\">\n",
       "    <path d=\"M0 0h24v24H0V0z\" fill=\"none\"/>\n",
       "    <path d=\"M18.56 5.44l.94 2.06.94-2.06 2.06-.94-2.06-.94-.94-2.06-.94 2.06-2.06.94zm-11 1L8.5 8.5l.94-2.06 2.06-.94-2.06-.94L8.5 2.5l-.94 2.06-2.06.94zm10 10l.94 2.06.94-2.06 2.06-.94-2.06-.94-.94-2.06-.94 2.06-2.06.94z\"/><path d=\"M17.41 7.96l-1.37-1.37c-.4-.4-.92-.59-1.43-.59-.52 0-1.04.2-1.43.59L10.3 9.45l-7.72 7.72c-.78.78-.78 2.05 0 2.83L4 21.41c.39.39.9.59 1.41.59.51 0 1.02-.2 1.41-.59l7.78-7.78 2.81-2.81c.8-.78.8-2.07 0-2.86zM5.41 20L4 18.59l7.72-7.72 1.47 1.35L5.41 20z\"/>\n",
       "  </svg>\n",
       "      </button>\n",
       "      \n",
       "  <style>\n",
       "    .colab-df-container {\n",
       "      display:flex;\n",
       "      flex-wrap:wrap;\n",
       "      gap: 12px;\n",
       "    }\n",
       "\n",
       "    .colab-df-convert {\n",
       "      background-color: #E8F0FE;\n",
       "      border: none;\n",
       "      border-radius: 50%;\n",
       "      cursor: pointer;\n",
       "      display: none;\n",
       "      fill: #1967D2;\n",
       "      height: 32px;\n",
       "      padding: 0 0 0 0;\n",
       "      width: 32px;\n",
       "    }\n",
       "\n",
       "    .colab-df-convert:hover {\n",
       "      background-color: #E2EBFA;\n",
       "      box-shadow: 0px 1px 2px rgba(60, 64, 67, 0.3), 0px 1px 3px 1px rgba(60, 64, 67, 0.15);\n",
       "      fill: #174EA6;\n",
       "    }\n",
       "\n",
       "    [theme=dark] .colab-df-convert {\n",
       "      background-color: #3B4455;\n",
       "      fill: #D2E3FC;\n",
       "    }\n",
       "\n",
       "    [theme=dark] .colab-df-convert:hover {\n",
       "      background-color: #434B5C;\n",
       "      box-shadow: 0px 1px 3px 1px rgba(0, 0, 0, 0.15);\n",
       "      filter: drop-shadow(0px 1px 2px rgba(0, 0, 0, 0.3));\n",
       "      fill: #FFFFFF;\n",
       "    }\n",
       "  </style>\n",
       "\n",
       "      <script>\n",
       "        const buttonEl =\n",
       "          document.querySelector('#df-81d62b2e-0ada-4b37-8283-27f676f12c5a button.colab-df-convert');\n",
       "        buttonEl.style.display =\n",
       "          google.colab.kernel.accessAllowed ? 'block' : 'none';\n",
       "\n",
       "        async function convertToInteractive(key) {\n",
       "          const element = document.querySelector('#df-81d62b2e-0ada-4b37-8283-27f676f12c5a');\n",
       "          const dataTable =\n",
       "            await google.colab.kernel.invokeFunction('convertToInteractive',\n",
       "                                                     [key], {});\n",
       "          if (!dataTable) return;\n",
       "\n",
       "          const docLinkHtml = 'Like what you see? Visit the ' +\n",
       "            '<a target=\"_blank\" href=https://colab.research.google.com/notebooks/data_table.ipynb>data table notebook</a>'\n",
       "            + ' to learn more about interactive tables.';\n",
       "          element.innerHTML = '';\n",
       "          dataTable['output_type'] = 'display_data';\n",
       "          await google.colab.output.renderOutput(dataTable, element);\n",
       "          const docLink = document.createElement('div');\n",
       "          docLink.innerHTML = docLinkHtml;\n",
       "          element.appendChild(docLink);\n",
       "        }\n",
       "      </script>\n",
       "    </div>\n",
       "  </div>\n",
       "  "
      ],
      "text/plain": [
       "       Lifetouch Heart Rate  Minutes-No\n",
       "count            226.000000  226.000000\n",
       "mean            2315.615044  112.500000\n",
       "std            11351.588825   65.384759\n",
       "min              106.000000    0.000000\n",
       "25%              136.000000   56.250000\n",
       "50%              145.000000  112.500000\n",
       "75%              156.000000  168.750000\n",
       "max            61442.000000  225.000000"
      ]
     },
     "execution_count": 298,
     "metadata": {},
     "output_type": "execute_result"
    }
   ],
   "source": [
    "df.describe()"
   ]
  },
  {
   "cell_type": "code",
   "execution_count": 299,
   "metadata": {
    "colab": {
     "base_uri": "https://localhost:8080/"
    },
    "executionInfo": {
     "elapsed": 108,
     "status": "ok",
     "timestamp": 1645192753772,
     "user": {
      "displayName": "Akinsola Amudah",
      "photoUrl": "https://lh3.googleusercontent.com/a-/AOh14GhaGpO_NfwGsAReqgHVMP8daYhpObnevoOrkAP3Hg=s64",
      "userId": "00854507567321069616"
     },
     "user_tz": 0
    },
    "id": "qBzA4YdTpmfH",
    "outputId": "cac6c24a-ef7b-48b8-9711-4e5c72fecc1d"
   },
   "outputs": [
    {
     "data": {
      "text/plain": [
       "Lifetouch Heart Rate    0\n",
       "Minutes-No              0\n",
       "dtype: int64"
      ]
     },
     "execution_count": 299,
     "metadata": {},
     "output_type": "execute_result"
    }
   ],
   "source": [
    "#Data preprocessing\n",
    "# find if the DataFrame contains Null/NaN values\n",
    "df.isna().sum()"
   ]
  },
  {
   "cell_type": "code",
   "execution_count": 300,
   "metadata": {
    "colab": {
     "base_uri": "https://localhost:8080/"
    },
    "executionInfo": {
     "elapsed": 95,
     "status": "ok",
     "timestamp": 1645192753773,
     "user": {
      "displayName": "Akinsola Amudah",
      "photoUrl": "https://lh3.googleusercontent.com/a-/AOh14GhaGpO_NfwGsAReqgHVMP8daYhpObnevoOrkAP3Hg=s64",
      "userId": "00854507567321069616"
     },
     "user_tz": 0
    },
    "id": "WS5GofzFqpZ0",
    "outputId": "5ae55b52-7c90-4117-bf59-862659b0c208"
   },
   "outputs": [
    {
     "data": {
      "text/plain": [
       "Lifetouch Heart Rate    0\n",
       "Minutes-No              0\n",
       "dtype: int64"
      ]
     },
     "execution_count": 300,
     "metadata": {},
     "output_type": "execute_result"
    }
   ],
   "source": [
    "# check the columns having \"?\"\n",
    "df[df == '?'].count()"
   ]
  },
  {
   "cell_type": "code",
   "execution_count": 301,
   "metadata": {
    "colab": {
     "base_uri": "https://localhost:8080/"
    },
    "executionInfo": {
     "elapsed": 94,
     "status": "ok",
     "timestamp": 1645192753775,
     "user": {
      "displayName": "Akinsola Amudah",
      "photoUrl": "https://lh3.googleusercontent.com/a-/AOh14GhaGpO_NfwGsAReqgHVMP8daYhpObnevoOrkAP3Hg=s64",
      "userId": "00854507567321069616"
     },
     "user_tz": 0
    },
    "id": "AktSU0i3qfqz",
    "outputId": "7cee8bda-bd03-4a5c-9b36-ee8b77d65066"
   },
   "outputs": [
    {
     "name": "stdout",
     "output_type": "stream",
     "text": [
      "145.86238532110093\n"
     ]
    }
   ],
   "source": [
    "#Replacing the outliers with the mean\n",
    "df1= df.copy()\n",
    "df1.drop(df1[df1['Lifetouch Heart Rate'] > 500].index, inplace = True)\n",
    "mean = df1['Lifetouch Heart Rate'].mean()\n",
    "df['Lifetouch Heart Rate'] = np.where(df['Lifetouch Heart Rate'] > 500, mean, df['Lifetouch Heart Rate'])\n",
    "print(mean)"
   ]
  },
  {
   "cell_type": "code",
   "execution_count": 302,
   "metadata": {
    "colab": {
     "base_uri": "https://localhost:8080/",
     "height": 300
    },
    "executionInfo": {
     "elapsed": 93,
     "status": "ok",
     "timestamp": 1645192753778,
     "user": {
      "displayName": "Akinsola Amudah",
      "photoUrl": "https://lh3.googleusercontent.com/a-/AOh14GhaGpO_NfwGsAReqgHVMP8daYhpObnevoOrkAP3Hg=s64",
      "userId": "00854507567321069616"
     },
     "user_tz": 0
    },
    "id": "7WP9N5WDrc57",
    "outputId": "ba0828ff-2b7b-49ca-9c3f-e627a8e9d72a"
   },
   "outputs": [
    {
     "data": {
      "text/html": [
       "\n",
       "  <div id=\"df-6bc80a77-7eec-4dc4-85fe-38b02ce2ae46\">\n",
       "    <div class=\"colab-df-container\">\n",
       "      <div>\n",
       "<style scoped>\n",
       "    .dataframe tbody tr th:only-of-type {\n",
       "        vertical-align: middle;\n",
       "    }\n",
       "\n",
       "    .dataframe tbody tr th {\n",
       "        vertical-align: top;\n",
       "    }\n",
       "\n",
       "    .dataframe thead th {\n",
       "        text-align: right;\n",
       "    }\n",
       "</style>\n",
       "<table border=\"1\" class=\"dataframe\">\n",
       "  <thead>\n",
       "    <tr style=\"text-align: right;\">\n",
       "      <th></th>\n",
       "      <th>Lifetouch Heart Rate</th>\n",
       "      <th>Minutes-No</th>\n",
       "    </tr>\n",
       "  </thead>\n",
       "  <tbody>\n",
       "    <tr>\n",
       "      <th>count</th>\n",
       "      <td>226.000000</td>\n",
       "      <td>226.000000</td>\n",
       "    </tr>\n",
       "    <tr>\n",
       "      <th>mean</th>\n",
       "      <td>145.862385</td>\n",
       "      <td>112.500000</td>\n",
       "    </tr>\n",
       "    <tr>\n",
       "      <th>std</th>\n",
       "      <td>11.129115</td>\n",
       "      <td>65.384759</td>\n",
       "    </tr>\n",
       "    <tr>\n",
       "      <th>min</th>\n",
       "      <td>106.000000</td>\n",
       "      <td>0.000000</td>\n",
       "    </tr>\n",
       "    <tr>\n",
       "      <th>25%</th>\n",
       "      <td>136.000000</td>\n",
       "      <td>56.250000</td>\n",
       "    </tr>\n",
       "    <tr>\n",
       "      <th>50%</th>\n",
       "      <td>144.931193</td>\n",
       "      <td>112.500000</td>\n",
       "    </tr>\n",
       "    <tr>\n",
       "      <th>75%</th>\n",
       "      <td>155.000000</td>\n",
       "      <td>168.750000</td>\n",
       "    </tr>\n",
       "    <tr>\n",
       "      <th>max</th>\n",
       "      <td>172.000000</td>\n",
       "      <td>225.000000</td>\n",
       "    </tr>\n",
       "  </tbody>\n",
       "</table>\n",
       "</div>\n",
       "      <button class=\"colab-df-convert\" onclick=\"convertToInteractive('df-6bc80a77-7eec-4dc4-85fe-38b02ce2ae46')\"\n",
       "              title=\"Convert this dataframe to an interactive table.\"\n",
       "              style=\"display:none;\">\n",
       "        \n",
       "  <svg xmlns=\"http://www.w3.org/2000/svg\" height=\"24px\"viewBox=\"0 0 24 24\"\n",
       "       width=\"24px\">\n",
       "    <path d=\"M0 0h24v24H0V0z\" fill=\"none\"/>\n",
       "    <path d=\"M18.56 5.44l.94 2.06.94-2.06 2.06-.94-2.06-.94-.94-2.06-.94 2.06-2.06.94zm-11 1L8.5 8.5l.94-2.06 2.06-.94-2.06-.94L8.5 2.5l-.94 2.06-2.06.94zm10 10l.94 2.06.94-2.06 2.06-.94-2.06-.94-.94-2.06-.94 2.06-2.06.94z\"/><path d=\"M17.41 7.96l-1.37-1.37c-.4-.4-.92-.59-1.43-.59-.52 0-1.04.2-1.43.59L10.3 9.45l-7.72 7.72c-.78.78-.78 2.05 0 2.83L4 21.41c.39.39.9.59 1.41.59.51 0 1.02-.2 1.41-.59l7.78-7.78 2.81-2.81c.8-.78.8-2.07 0-2.86zM5.41 20L4 18.59l7.72-7.72 1.47 1.35L5.41 20z\"/>\n",
       "  </svg>\n",
       "      </button>\n",
       "      \n",
       "  <style>\n",
       "    .colab-df-container {\n",
       "      display:flex;\n",
       "      flex-wrap:wrap;\n",
       "      gap: 12px;\n",
       "    }\n",
       "\n",
       "    .colab-df-convert {\n",
       "      background-color: #E8F0FE;\n",
       "      border: none;\n",
       "      border-radius: 50%;\n",
       "      cursor: pointer;\n",
       "      display: none;\n",
       "      fill: #1967D2;\n",
       "      height: 32px;\n",
       "      padding: 0 0 0 0;\n",
       "      width: 32px;\n",
       "    }\n",
       "\n",
       "    .colab-df-convert:hover {\n",
       "      background-color: #E2EBFA;\n",
       "      box-shadow: 0px 1px 2px rgba(60, 64, 67, 0.3), 0px 1px 3px 1px rgba(60, 64, 67, 0.15);\n",
       "      fill: #174EA6;\n",
       "    }\n",
       "\n",
       "    [theme=dark] .colab-df-convert {\n",
       "      background-color: #3B4455;\n",
       "      fill: #D2E3FC;\n",
       "    }\n",
       "\n",
       "    [theme=dark] .colab-df-convert:hover {\n",
       "      background-color: #434B5C;\n",
       "      box-shadow: 0px 1px 3px 1px rgba(0, 0, 0, 0.15);\n",
       "      filter: drop-shadow(0px 1px 2px rgba(0, 0, 0, 0.3));\n",
       "      fill: #FFFFFF;\n",
       "    }\n",
       "  </style>\n",
       "\n",
       "      <script>\n",
       "        const buttonEl =\n",
       "          document.querySelector('#df-6bc80a77-7eec-4dc4-85fe-38b02ce2ae46 button.colab-df-convert');\n",
       "        buttonEl.style.display =\n",
       "          google.colab.kernel.accessAllowed ? 'block' : 'none';\n",
       "\n",
       "        async function convertToInteractive(key) {\n",
       "          const element = document.querySelector('#df-6bc80a77-7eec-4dc4-85fe-38b02ce2ae46');\n",
       "          const dataTable =\n",
       "            await google.colab.kernel.invokeFunction('convertToInteractive',\n",
       "                                                     [key], {});\n",
       "          if (!dataTable) return;\n",
       "\n",
       "          const docLinkHtml = 'Like what you see? Visit the ' +\n",
       "            '<a target=\"_blank\" href=https://colab.research.google.com/notebooks/data_table.ipynb>data table notebook</a>'\n",
       "            + ' to learn more about interactive tables.';\n",
       "          element.innerHTML = '';\n",
       "          dataTable['output_type'] = 'display_data';\n",
       "          await google.colab.output.renderOutput(dataTable, element);\n",
       "          const docLink = document.createElement('div');\n",
       "          docLink.innerHTML = docLinkHtml;\n",
       "          element.appendChild(docLink);\n",
       "        }\n",
       "      </script>\n",
       "    </div>\n",
       "  </div>\n",
       "  "
      ],
      "text/plain": [
       "       Lifetouch Heart Rate  Minutes-No\n",
       "count            226.000000  226.000000\n",
       "mean             145.862385  112.500000\n",
       "std               11.129115   65.384759\n",
       "min              106.000000    0.000000\n",
       "25%              136.000000   56.250000\n",
       "50%              144.931193  112.500000\n",
       "75%              155.000000  168.750000\n",
       "max              172.000000  225.000000"
      ]
     },
     "execution_count": 302,
     "metadata": {},
     "output_type": "execute_result"
    }
   ],
   "source": [
    "df.describe()"
   ]
  },
  {
   "cell_type": "code",
   "execution_count": 303,
   "metadata": {
    "colab": {
     "base_uri": "https://localhost:8080/",
     "height": 513
    },
    "executionInfo": {
     "elapsed": 552,
     "status": "ok",
     "timestamp": 1645192754239,
     "user": {
      "displayName": "Akinsola Amudah",
      "photoUrl": "https://lh3.googleusercontent.com/a-/AOh14GhaGpO_NfwGsAReqgHVMP8daYhpObnevoOrkAP3Hg=s64",
      "userId": "00854507567321069616"
     },
     "user_tz": 0
    },
    "id": "fV48ee83ro7t",
    "outputId": "453ac255-9cb0-446e-910f-b0f7ad65bc38"
   },
   "outputs": [
    {
     "data": {
      "image/png": "[encoded data removed]",
      "text/plain": [
       "<Figure size 864x576 with 1 Axes>"
      ]
     },
     "metadata": {
      "needs_background": "light"
     },
     "output_type": "display_data"
    }
   ],
   "source": [
    "#Plot the time series\n",
    "plt.figure(figsize=(12, 8))\n",
    "plt.plot(df[\"Minutes-No\"], df['Lifetouch Heart Rate'])\n",
    "plt.xticks(np.arange(min(df[\"Minutes-No\"]), max(df[\"Minutes-No\"])+1, 20))\n",
    "plt.legend(labels=\"HeartRate\", loc=2)\n",
    "plt.xlabel(\"Time\")\n",
    "plt.ylabel(\"Heart Rate\")\n",
    "plt.title(\"LifeTouch Heart Rate Time Series\")\n",
    "plt.show()"
   ]
  },
  {
   "cell_type": "code",
   "execution_count": 304,
   "metadata": {
    "colab": {
     "base_uri": "https://localhost:8080/"
    },
    "executionInfo": {
     "elapsed": 59,
     "status": "ok",
     "timestamp": 1645192754240,
     "user": {
      "displayName": "Akinsola Amudah",
      "photoUrl": "https://lh3.googleusercontent.com/a-/AOh14GhaGpO_NfwGsAReqgHVMP8daYhpObnevoOrkAP3Hg=s64",
      "userId": "00854507567321069616"
     },
     "user_tz": 0
    },
    "id": "la1MeehRur-9",
    "outputId": "ef231f23-abfb-4f05-8cd4-c2fa742e41e0"
   },
   "outputs": [
    {
     "name": "stdout",
     "output_type": "stream",
     "text": [
      "p value: 0.01\n",
      "Result: The series is not stationary \n",
      "\n"
     ]
    }
   ],
   "source": [
    "# checking for stationarity of the series with KPSS\n",
    "\n",
    "def check_stationarity(series):\n",
    "  statistic, p_value, n_lags, critical_values = sm.tsa.stattools.kpss(series)\n",
    "  print(f'p value: {p_value}')\n",
    "  print(f'Result: The series is {\"not \" if p_value < 0.05 else \"\"}stationary \\n')\n",
    "check_stationarity(df['Lifetouch Heart Rate'])"
   ]
  },
  {
   "cell_type": "code",
   "execution_count": 305,
   "metadata": {
    "colab": {
     "base_uri": "https://localhost:8080/"
    },
    "executionInfo": {
     "elapsed": 49,
     "status": "ok",
     "timestamp": 1645192754241,
     "user": {
      "displayName": "Akinsola Amudah",
      "photoUrl": "https://lh3.googleusercontent.com/a-/AOh14GhaGpO_NfwGsAReqgHVMP8daYhpObnevoOrkAP3Hg=s64",
      "userId": "00854507567321069616"
     },
     "user_tz": 0
    },
    "id": "EaAVfiMOvSn5",
    "outputId": "31b00afc-e11b-45a2-a42c-1f3bf76e4580"
   },
   "outputs": [
    {
     "name": "stdout",
     "output_type": "stream",
     "text": [
      "ADF Test Statistic : -2.3134232628478246\n",
      "p-value : 0.16767524300113734\n",
      "#Lags Used : 3\n",
      "Number of Observations Used : 222\n",
      "weak evidence against null hypothesis, time series has a unit root, indicating it is non-stationary \n"
     ]
    }
   ],
   "source": [
    "# checking for stationarity of the series with ADF test\n",
    "\n",
    "from statsmodels.tsa.stattools import adfuller\n",
    "test_result=adfuller(df['Lifetouch Heart Rate'])\n",
    "#Ho: It is non stationary\n",
    "#H1: It is stationary\n",
    "\n",
    "def adfuller_test(df):\n",
    "    result=adfuller(df)\n",
    "    labels = ['ADF Test Statistic','p-value','#Lags Used','Number of Observations Used']\n",
    "    for value,label in zip(result,labels):\n",
    "        print(label+' : '+str(value) )\n",
    "    if result[1] <= 0.05:\n",
    "        print(\"strong evidence against the null hypothesis(Ho), reject the null hypothesis. Data has no unit root and is stationary\")\n",
    "    else:\n",
    "        print(\"weak evidence against null hypothesis, time series has a unit root, indicating it is non-stationary \")\n",
    "    \n",
    "adfuller_test(df['Lifetouch Heart Rate'])"
   ]
  },
  {
   "cell_type": "code",
   "execution_count": 306,
   "metadata": {
    "colab": {
     "base_uri": "https://localhost:8080/",
     "height": 283
    },
    "executionInfo": {
     "elapsed": 515,
     "status": "ok",
     "timestamp": 1645192754712,
     "user": {
      "displayName": "Akinsola Amudah",
      "photoUrl": "https://lh3.googleusercontent.com/a-/AOh14GhaGpO_NfwGsAReqgHVMP8daYhpObnevoOrkAP3Hg=s64",
      "userId": "00854507567321069616"
     },
     "user_tz": 0
    },
    "id": "if5nU7Z1-Lkt",
    "outputId": "65aba94f-469d-425b-9bc5-672aba2579b7"
   },
   "outputs": [
    {
     "data": {
      "image/png": "[encoded data removed]",
      "text/plain": [
       "<Figure size 432x288 with 1 Axes>"
      ]
     },
     "metadata": {
      "needs_background": "light"
     },
     "output_type": "display_data"
    }
   ],
   "source": [
    "from pandas.plotting import autocorrelation_plot\n",
    "autocorrelation_plot(df['Lifetouch Heart Rate'])\n",
    "plt.show()"
   ]
  },
  {
   "cell_type": "markdown",
   "metadata": {
    "id": "F-BYRvvJ0DsC"
   },
   "source": [
    "To make the series stationary and removing seasionarity"
   ]
  },
  {
   "cell_type": "code",
   "execution_count": 307,
   "metadata": {
    "colab": {
     "base_uri": "https://localhost:8080/",
     "height": 238
    },
    "executionInfo": {
     "elapsed": 72,
     "status": "ok",
     "timestamp": 1645192754714,
     "user": {
      "displayName": "Akinsola Amudah",
      "photoUrl": "https://lh3.googleusercontent.com/a-/AOh14GhaGpO_NfwGsAReqgHVMP8daYhpObnevoOrkAP3Hg=s64",
      "userId": "00854507567321069616"
     },
     "user_tz": 0
    },
    "id": "lYmYb9Nix52s",
    "outputId": "d85fdda7-9e3b-468f-d228-051a62ed63aa"
   },
   "outputs": [
    {
     "data": {
      "text/html": [
       "\n",
       "  <div id=\"df-e9e38c26-f99e-4af2-a577-d4549c5f558a\">\n",
       "    <div class=\"colab-df-container\">\n",
       "      <div>\n",
       "<style scoped>\n",
       "    .dataframe tbody tr th:only-of-type {\n",
       "        vertical-align: middle;\n",
       "    }\n",
       "\n",
       "    .dataframe tbody tr th {\n",
       "        vertical-align: top;\n",
       "    }\n",
       "\n",
       "    .dataframe thead th {\n",
       "        text-align: right;\n",
       "    }\n",
       "</style>\n",
       "<table border=\"1\" class=\"dataframe\">\n",
       "  <thead>\n",
       "    <tr style=\"text-align: right;\">\n",
       "      <th></th>\n",
       "      <th>Lifetouch Heart Rate</th>\n",
       "      <th>Minutes-No</th>\n",
       "      <th>Log-LHR</th>\n",
       "    </tr>\n",
       "    <tr>\n",
       "      <th>Timestamp (GMT)</th>\n",
       "      <th></th>\n",
       "      <th></th>\n",
       "      <th></th>\n",
       "    </tr>\n",
       "  </thead>\n",
       "  <tbody>\n",
       "    <tr>\n",
       "      <th>2015-08-17 15:09:00</th>\n",
       "      <td>139.0</td>\n",
       "      <td>0</td>\n",
       "      <td>4.934474</td>\n",
       "    </tr>\n",
       "    <tr>\n",
       "      <th>2015-08-17 15:10:00</th>\n",
       "      <td>144.0</td>\n",
       "      <td>1</td>\n",
       "      <td>4.969813</td>\n",
       "    </tr>\n",
       "    <tr>\n",
       "      <th>2015-08-17 15:11:00</th>\n",
       "      <td>140.0</td>\n",
       "      <td>2</td>\n",
       "      <td>4.941642</td>\n",
       "    </tr>\n",
       "    <tr>\n",
       "      <th>2015-08-17 15:12:00</th>\n",
       "      <td>138.0</td>\n",
       "      <td>3</td>\n",
       "      <td>4.927254</td>\n",
       "    </tr>\n",
       "    <tr>\n",
       "      <th>2015-08-17 15:13:00</th>\n",
       "      <td>133.0</td>\n",
       "      <td>4</td>\n",
       "      <td>4.890349</td>\n",
       "    </tr>\n",
       "  </tbody>\n",
       "</table>\n",
       "</div>\n",
       "      <button class=\"colab-df-convert\" onclick=\"convertToInteractive('df-e9e38c26-f99e-4af2-a577-d4549c5f558a')\"\n",
       "              title=\"Convert this dataframe to an interactive table.\"\n",
       "              style=\"display:none;\">\n",
       "        \n",
       "  <svg xmlns=\"http://www.w3.org/2000/svg\" height=\"24px\"viewBox=\"0 0 24 24\"\n",
       "       width=\"24px\">\n",
       "    <path d=\"M0 0h24v24H0V0z\" fill=\"none\"/>\n",
       "    <path d=\"M18.56 5.44l.94 2.06.94-2.06 2.06-.94-2.06-.94-.94-2.06-.94 2.06-2.06.94zm-11 1L8.5 8.5l.94-2.06 2.06-.94-2.06-.94L8.5 2.5l-.94 2.06-2.06.94zm10 10l.94 2.06.94-2.06 2.06-.94-2.06-.94-.94-2.06-.94 2.06-2.06.94z\"/><path d=\"M17.41 7.96l-1.37-1.37c-.4-.4-.92-.59-1.43-.59-.52 0-1.04.2-1.43.59L10.3 9.45l-7.72 7.72c-.78.78-.78 2.05 0 2.83L4 21.41c.39.39.9.59 1.41.59.51 0 1.02-.2 1.41-.59l7.78-7.78 2.81-2.81c.8-.78.8-2.07 0-2.86zM5.41 20L4 18.59l7.72-7.72 1.47 1.35L5.41 20z\"/>\n",
       "  </svg>\n",
       "      </button>\n",
       "      \n",
       "  <style>\n",
       "    .colab-df-container {\n",
       "      display:flex;\n",
       "      flex-wrap:wrap;\n",
       "      gap: 12px;\n",
       "    }\n",
       "\n",
       "    .colab-df-convert {\n",
       "      background-color: #E8F0FE;\n",
       "      border: none;\n",
       "      border-radius: 50%;\n",
       "      cursor: pointer;\n",
       "      display: none;\n",
       "      fill: #1967D2;\n",
       "      height: 32px;\n",
       "      padding: 0 0 0 0;\n",
       "      width: 32px;\n",
       "    }\n",
       "\n",
       "    .colab-df-convert:hover {\n",
       "      background-color: #E2EBFA;\n",
       "      box-shadow: 0px 1px 2px rgba(60, 64, 67, 0.3), 0px 1px 3px 1px rgba(60, 64, 67, 0.15);\n",
       "      fill: #174EA6;\n",
       "    }\n",
       "\n",
       "    [theme=dark] .colab-df-convert {\n",
       "      background-color: #3B4455;\n",
       "      fill: #D2E3FC;\n",
       "    }\n",
       "\n",
       "    [theme=dark] .colab-df-convert:hover {\n",
       "      background-color: #434B5C;\n",
       "      box-shadow: 0px 1px 3px 1px rgba(0, 0, 0, 0.15);\n",
       "      filter: drop-shadow(0px 1px 2px rgba(0, 0, 0, 0.3));\n",
       "      fill: #FFFFFF;\n",
       "    }\n",
       "  </style>\n",
       "\n",
       "      <script>\n",
       "        const buttonEl =\n",
       "          document.querySelector('#df-e9e38c26-f99e-4af2-a577-d4549c5f558a button.colab-df-convert');\n",
       "        buttonEl.style.display =\n",
       "          google.colab.kernel.accessAllowed ? 'block' : 'none';\n",
       "\n",
       "        async function convertToInteractive(key) {\n",
       "          const element = document.querySelector('#df-e9e38c26-f99e-4af2-a577-d4549c5f558a');\n",
       "          const dataTable =\n",
       "            await google.colab.kernel.invokeFunction('convertToInteractive',\n",
       "                                                     [key], {});\n",
       "          if (!dataTable) return;\n",
       "\n",
       "          const docLinkHtml = 'Like what you see? Visit the ' +\n",
       "            '<a target=\"_blank\" href=https://colab.research.google.com/notebooks/data_table.ipynb>data table notebook</a>'\n",
       "            + ' to learn more about interactive tables.';\n",
       "          element.innerHTML = '';\n",
       "          dataTable['output_type'] = 'display_data';\n",
       "          await google.colab.output.renderOutput(dataTable, element);\n",
       "          const docLink = document.createElement('div');\n",
       "          docLink.innerHTML = docLinkHtml;\n",
       "          element.appendChild(docLink);\n",
       "        }\n",
       "      </script>\n",
       "    </div>\n",
       "  </div>\n",
       "  "
      ],
      "text/plain": [
       "                     Lifetouch Heart Rate  Minutes-No   Log-LHR\n",
       "Timestamp (GMT)                                                \n",
       "2015-08-17 15:09:00                 139.0           0  4.934474\n",
       "2015-08-17 15:10:00                 144.0           1  4.969813\n",
       "2015-08-17 15:11:00                 140.0           2  4.941642\n",
       "2015-08-17 15:12:00                 138.0           3  4.927254\n",
       "2015-08-17 15:13:00                 133.0           4  4.890349"
      ]
     },
     "execution_count": 307,
     "metadata": {},
     "output_type": "execute_result"
    }
   ],
   "source": [
    "#Log Transformation of the Heart Rate\n",
    "df['Log-LHR'] = np.log(df['Lifetouch Heart Rate']) \n",
    "\n",
    "df.head()"
   ]
  },
  {
   "cell_type": "code",
   "execution_count": 308,
   "metadata": {
    "colab": {
     "base_uri": "https://localhost:8080/",
     "height": 499
    },
    "executionInfo": {
     "elapsed": 44,
     "status": "ok",
     "timestamp": 1645192754715,
     "user": {
      "displayName": "Akinsola Amudah",
      "photoUrl": "https://lh3.googleusercontent.com/a-/AOh14GhaGpO_NfwGsAReqgHVMP8daYhpObnevoOrkAP3Hg=s64",
      "userId": "00854507567321069616"
     },
     "user_tz": 0
    },
    "id": "0VXGS1oz0o-C",
    "outputId": "d6232e18-c038-4f96-9226-bdd550f35d92"
   },
   "outputs": [
    {
     "data": {
      "image/png": "[encoded data removed]",
      "text/plain": [
       "<Figure size 864x576 with 1 Axes>"
      ]
     },
     "metadata": {
      "needs_background": "light"
     },
     "output_type": "display_data"
    }
   ],
   "source": [
    "#Log-LHR plot\n",
    "\n",
    "plt.figure(figsize=(12, 8))\n",
    "plt.plot(df[\"Minutes-No\"], df['Log-LHR'])\n",
    "plt.xticks(np.arange(min(df[\"Minutes-No\"]), max(df[\"Minutes-No\"])+1, 20))\n",
    "plt.legend(labels=\"HeartRate\", loc=2)\n",
    "plt.title(\"Log LHR\")\n",
    "plt.show()"
   ]
  },
  {
   "cell_type": "code",
   "execution_count": 309,
   "metadata": {
    "colab": {
     "base_uri": "https://localhost:8080/",
     "height": 551
    },
    "executionInfo": {
     "elapsed": 44,
     "status": "ok",
     "timestamp": 1645192754718,
     "user": {
      "displayName": "Akinsola Amudah",
      "photoUrl": "https://lh3.googleusercontent.com/a-/AOh14GhaGpO_NfwGsAReqgHVMP8daYhpObnevoOrkAP3Hg=s64",
      "userId": "00854507567321069616"
     },
     "user_tz": 0
    },
    "id": "DHhMntra1Uv9",
    "outputId": "09e54fe3-0759-45c0-bca9-e65e40594999"
   },
   "outputs": [
    {
     "data": {
      "text/html": [
       "\n",
       "  <div id=\"df-3267b77c-9aab-4e6d-8015-2117f47fac39\">\n",
       "    <div class=\"colab-df-container\">\n",
       "      <div>\n",
       "<style scoped>\n",
       "    .dataframe tbody tr th:only-of-type {\n",
       "        vertical-align: middle;\n",
       "    }\n",
       "\n",
       "    .dataframe tbody tr th {\n",
       "        vertical-align: top;\n",
       "    }\n",
       "\n",
       "    .dataframe thead th {\n",
       "        text-align: right;\n",
       "    }\n",
       "</style>\n",
       "<table border=\"1\" class=\"dataframe\">\n",
       "  <thead>\n",
       "    <tr style=\"text-align: right;\">\n",
       "      <th></th>\n",
       "      <th>Lifetouch Heart Rate</th>\n",
       "      <th>Minutes-No</th>\n",
       "      <th>Log-LHR</th>\n",
       "      <th>Deseasonalised-LHR</th>\n",
       "    </tr>\n",
       "    <tr>\n",
       "      <th>Timestamp (GMT)</th>\n",
       "      <th></th>\n",
       "      <th></th>\n",
       "      <th></th>\n",
       "      <th></th>\n",
       "    </tr>\n",
       "  </thead>\n",
       "  <tbody>\n",
       "    <tr>\n",
       "      <th>2015-08-17 15:09:00</th>\n",
       "      <td>139.0</td>\n",
       "      <td>0</td>\n",
       "      <td>4.934474</td>\n",
       "      <td>NaN</td>\n",
       "    </tr>\n",
       "    <tr>\n",
       "      <th>2015-08-17 15:10:00</th>\n",
       "      <td>144.0</td>\n",
       "      <td>1</td>\n",
       "      <td>4.969813</td>\n",
       "      <td>NaN</td>\n",
       "    </tr>\n",
       "    <tr>\n",
       "      <th>2015-08-17 15:11:00</th>\n",
       "      <td>140.0</td>\n",
       "      <td>2</td>\n",
       "      <td>4.941642</td>\n",
       "      <td>NaN</td>\n",
       "    </tr>\n",
       "    <tr>\n",
       "      <th>2015-08-17 15:12:00</th>\n",
       "      <td>138.0</td>\n",
       "      <td>3</td>\n",
       "      <td>4.927254</td>\n",
       "      <td>NaN</td>\n",
       "    </tr>\n",
       "    <tr>\n",
       "      <th>2015-08-17 15:13:00</th>\n",
       "      <td>133.0</td>\n",
       "      <td>4</td>\n",
       "      <td>4.890349</td>\n",
       "      <td>NaN</td>\n",
       "    </tr>\n",
       "    <tr>\n",
       "      <th>2015-08-17 15:14:00</th>\n",
       "      <td>132.0</td>\n",
       "      <td>5</td>\n",
       "      <td>4.882802</td>\n",
       "      <td>NaN</td>\n",
       "    </tr>\n",
       "    <tr>\n",
       "      <th>2015-08-17 15:15:00</th>\n",
       "      <td>132.0</td>\n",
       "      <td>6</td>\n",
       "      <td>4.882802</td>\n",
       "      <td>NaN</td>\n",
       "    </tr>\n",
       "    <tr>\n",
       "      <th>2015-08-17 15:16:00</th>\n",
       "      <td>133.0</td>\n",
       "      <td>7</td>\n",
       "      <td>4.890349</td>\n",
       "      <td>NaN</td>\n",
       "    </tr>\n",
       "    <tr>\n",
       "      <th>2015-08-17 15:17:00</th>\n",
       "      <td>136.0</td>\n",
       "      <td>8</td>\n",
       "      <td>4.912655</td>\n",
       "      <td>NaN</td>\n",
       "    </tr>\n",
       "    <tr>\n",
       "      <th>2015-08-17 15:18:00</th>\n",
       "      <td>137.0</td>\n",
       "      <td>9</td>\n",
       "      <td>4.919981</td>\n",
       "      <td>NaN</td>\n",
       "    </tr>\n",
       "    <tr>\n",
       "      <th>2015-08-17 15:19:00</th>\n",
       "      <td>136.0</td>\n",
       "      <td>10</td>\n",
       "      <td>4.912655</td>\n",
       "      <td>NaN</td>\n",
       "    </tr>\n",
       "    <tr>\n",
       "      <th>2015-08-17 15:20:00</th>\n",
       "      <td>137.0</td>\n",
       "      <td>11</td>\n",
       "      <td>4.919981</td>\n",
       "      <td>NaN</td>\n",
       "    </tr>\n",
       "    <tr>\n",
       "      <th>2015-08-17 15:21:00</th>\n",
       "      <td>139.0</td>\n",
       "      <td>12</td>\n",
       "      <td>4.934474</td>\n",
       "      <td>0.000000</td>\n",
       "    </tr>\n",
       "    <tr>\n",
       "      <th>2015-08-17 15:22:00</th>\n",
       "      <td>138.0</td>\n",
       "      <td>13</td>\n",
       "      <td>4.927254</td>\n",
       "      <td>-0.042560</td>\n",
       "    </tr>\n",
       "    <tr>\n",
       "      <th>2015-08-17 15:23:00</th>\n",
       "      <td>141.0</td>\n",
       "      <td>14</td>\n",
       "      <td>4.948760</td>\n",
       "      <td>0.007117</td>\n",
       "    </tr>\n",
       "  </tbody>\n",
       "</table>\n",
       "</div>\n",
       "      <button class=\"colab-df-convert\" onclick=\"convertToInteractive('df-3267b77c-9aab-4e6d-8015-2117f47fac39')\"\n",
       "              title=\"Convert this dataframe to an interactive table.\"\n",
       "              style=\"display:none;\">\n",
       "        \n",
       "  <svg xmlns=\"http://www.w3.org/2000/svg\" height=\"24px\"viewBox=\"0 0 24 24\"\n",
       "       width=\"24px\">\n",
       "    <path d=\"M0 0h24v24H0V0z\" fill=\"none\"/>\n",
       "    <path d=\"M18.56 5.44l.94 2.06.94-2.06 2.06-.94-2.06-.94-.94-2.06-.94 2.06-2.06.94zm-11 1L8.5 8.5l.94-2.06 2.06-.94-2.06-.94L8.5 2.5l-.94 2.06-2.06.94zm10 10l.94 2.06.94-2.06 2.06-.94-2.06-.94-.94-2.06-.94 2.06-2.06.94z\"/><path d=\"M17.41 7.96l-1.37-1.37c-.4-.4-.92-.59-1.43-.59-.52 0-1.04.2-1.43.59L10.3 9.45l-7.72 7.72c-.78.78-.78 2.05 0 2.83L4 21.41c.39.39.9.59 1.41.59.51 0 1.02-.2 1.41-.59l7.78-7.78 2.81-2.81c.8-.78.8-2.07 0-2.86zM5.41 20L4 18.59l7.72-7.72 1.47 1.35L5.41 20z\"/>\n",
       "  </svg>\n",
       "      </button>\n",
       "      \n",
       "  <style>\n",
       "    .colab-df-container {\n",
       "      display:flex;\n",
       "      flex-wrap:wrap;\n",
       "      gap: 12px;\n",
       "    }\n",
       "\n",
       "    .colab-df-convert {\n",
       "      background-color: #E8F0FE;\n",
       "      border: none;\n",
       "      border-radius: 50%;\n",
       "      cursor: pointer;\n",
       "      display: none;\n",
       "      fill: #1967D2;\n",
       "      height: 32px;\n",
       "      padding: 0 0 0 0;\n",
       "      width: 32px;\n",
       "    }\n",
       "\n",
       "    .colab-df-convert:hover {\n",
       "      background-color: #E2EBFA;\n",
       "      box-shadow: 0px 1px 2px rgba(60, 64, 67, 0.3), 0px 1px 3px 1px rgba(60, 64, 67, 0.15);\n",
       "      fill: #174EA6;\n",
       "    }\n",
       "\n",
       "    [theme=dark] .colab-df-convert {\n",
       "      background-color: #3B4455;\n",
       "      fill: #D2E3FC;\n",
       "    }\n",
       "\n",
       "    [theme=dark] .colab-df-convert:hover {\n",
       "      background-color: #434B5C;\n",
       "      box-shadow: 0px 1px 3px 1px rgba(0, 0, 0, 0.15);\n",
       "      filter: drop-shadow(0px 1px 2px rgba(0, 0, 0, 0.3));\n",
       "      fill: #FFFFFF;\n",
       "    }\n",
       "  </style>\n",
       "\n",
       "      <script>\n",
       "        const buttonEl =\n",
       "          document.querySelector('#df-3267b77c-9aab-4e6d-8015-2117f47fac39 button.colab-df-convert');\n",
       "        buttonEl.style.display =\n",
       "          google.colab.kernel.accessAllowed ? 'block' : 'none';\n",
       "\n",
       "        async function convertToInteractive(key) {\n",
       "          const element = document.querySelector('#df-3267b77c-9aab-4e6d-8015-2117f47fac39');\n",
       "          const dataTable =\n",
       "            await google.colab.kernel.invokeFunction('convertToInteractive',\n",
       "                                                     [key], {});\n",
       "          if (!dataTable) return;\n",
       "\n",
       "          const docLinkHtml = 'Like what you see? Visit the ' +\n",
       "            '<a target=\"_blank\" href=https://colab.research.google.com/notebooks/data_table.ipynb>data table notebook</a>'\n",
       "            + ' to learn more about interactive tables.';\n",
       "          element.innerHTML = '';\n",
       "          dataTable['output_type'] = 'display_data';\n",
       "          await google.colab.output.renderOutput(dataTable, element);\n",
       "          const docLink = document.createElement('div');\n",
       "          docLink.innerHTML = docLinkHtml;\n",
       "          element.appendChild(docLink);\n",
       "        }\n",
       "      </script>\n",
       "    </div>\n",
       "  </div>\n",
       "  "
      ],
      "text/plain": [
       "                     Lifetouch Heart Rate  ...  Deseasonalised-LHR\n",
       "Timestamp (GMT)                            ...                    \n",
       "2015-08-17 15:09:00                 139.0  ...                 NaN\n",
       "2015-08-17 15:10:00                 144.0  ...                 NaN\n",
       "2015-08-17 15:11:00                 140.0  ...                 NaN\n",
       "2015-08-17 15:12:00                 138.0  ...                 NaN\n",
       "2015-08-17 15:13:00                 133.0  ...                 NaN\n",
       "2015-08-17 15:14:00                 132.0  ...                 NaN\n",
       "2015-08-17 15:15:00                 132.0  ...                 NaN\n",
       "2015-08-17 15:16:00                 133.0  ...                 NaN\n",
       "2015-08-17 15:17:00                 136.0  ...                 NaN\n",
       "2015-08-17 15:18:00                 137.0  ...                 NaN\n",
       "2015-08-17 15:19:00                 136.0  ...                 NaN\n",
       "2015-08-17 15:20:00                 137.0  ...                 NaN\n",
       "2015-08-17 15:21:00                 139.0  ...            0.000000\n",
       "2015-08-17 15:22:00                 138.0  ...           -0.042560\n",
       "2015-08-17 15:23:00                 141.0  ...            0.007117\n",
       "\n",
       "[15 rows x 4 columns]"
      ]
     },
     "execution_count": 309,
     "metadata": {},
     "output_type": "execute_result"
    }
   ],
   "source": [
    "#Deseasonalization\n",
    "\n",
    "df['Deseasonalised-LHR'] = df[['Log-LHR']].diff(axis=0, periods=12)\n",
    "df.head(15)"
   ]
  },
  {
   "cell_type": "code",
   "execution_count": 310,
   "metadata": {
    "colab": {
     "base_uri": "https://localhost:8080/",
     "height": 499
    },
    "executionInfo": {
     "elapsed": 747,
     "status": "ok",
     "timestamp": 1645192755425,
     "user": {
      "displayName": "Akinsola Amudah",
      "photoUrl": "https://lh3.googleusercontent.com/a-/AOh14GhaGpO_NfwGsAReqgHVMP8daYhpObnevoOrkAP3Hg=s64",
      "userId": "00854507567321069616"
     },
     "user_tz": 0
    },
    "id": "-aXpxYUr1wvj",
    "outputId": "cad12b7d-8805-43f1-ef94-3bc1ed5e18a8"
   },
   "outputs": [
    {
     "data": {
      "image/png": "[encoded data removed]",
      "text/plain": [
       "<Figure size 864x576 with 1 Axes>"
      ]
     },
     "metadata": {
      "needs_background": "light"
     },
     "output_type": "display_data"
    }
   ],
   "source": [
    "#Deseasonalised Plot\n",
    "\n",
    "plt.figure(figsize=(12, 8))\n",
    "plt.plot(df[\"Minutes-No\"], df['Deseasonalised-LHR'])\n",
    "plt.xticks(np.arange(min(df[\"Minutes-No\"]), max(df[\"Minutes-No\"])+1, 20))\n",
    "plt.legend(labels=\"HeartRate\", loc=2)\n",
    "plt.title(\"Deseasonalised-LHR\")\n",
    "plt.show()"
   ]
  },
  {
   "cell_type": "code",
   "execution_count": 311,
   "metadata": {
    "colab": {
     "base_uri": "https://localhost:8080/",
     "height": 551
    },
    "executionInfo": {
     "elapsed": 69,
     "status": "ok",
     "timestamp": 1645192755426,
     "user": {
      "displayName": "Akinsola Amudah",
      "photoUrl": "https://lh3.googleusercontent.com/a-/AOh14GhaGpO_NfwGsAReqgHVMP8daYhpObnevoOrkAP3Hg=s64",
      "userId": "00854507567321069616"
     },
     "user_tz": 0
    },
    "id": "KtVS6mEp2HLd",
    "outputId": "f00f0fc7-c48b-453c-a12e-f1fef7c1130e"
   },
   "outputs": [
    {
     "data": {
      "text/html": [
       "\n",
       "  <div id=\"df-ae43bf6b-08b9-4bf1-a944-9a2b93c71a5c\">\n",
       "    <div class=\"colab-df-container\">\n",
       "      <div>\n",
       "<style scoped>\n",
       "    .dataframe tbody tr th:only-of-type {\n",
       "        vertical-align: middle;\n",
       "    }\n",
       "\n",
       "    .dataframe tbody tr th {\n",
       "        vertical-align: top;\n",
       "    }\n",
       "\n",
       "    .dataframe thead th {\n",
       "        text-align: right;\n",
       "    }\n",
       "</style>\n",
       "<table border=\"1\" class=\"dataframe\">\n",
       "  <thead>\n",
       "    <tr style=\"text-align: right;\">\n",
       "      <th></th>\n",
       "      <th>Lifetouch Heart Rate</th>\n",
       "      <th>Minutes-No</th>\n",
       "      <th>Log-LHR</th>\n",
       "      <th>Deseasonalised-LHR</th>\n",
       "      <th>Differenced-LHR</th>\n",
       "    </tr>\n",
       "    <tr>\n",
       "      <th>Timestamp (GMT)</th>\n",
       "      <th></th>\n",
       "      <th></th>\n",
       "      <th></th>\n",
       "      <th></th>\n",
       "      <th></th>\n",
       "    </tr>\n",
       "  </thead>\n",
       "  <tbody>\n",
       "    <tr>\n",
       "      <th>2015-08-17 18:40:00</th>\n",
       "      <td>148.0</td>\n",
       "      <td>211</td>\n",
       "      <td>4.997212</td>\n",
       "      <td>-0.065383</td>\n",
       "      <td>-0.025642</td>\n",
       "    </tr>\n",
       "    <tr>\n",
       "      <th>2015-08-17 18:41:00</th>\n",
       "      <td>152.0</td>\n",
       "      <td>212</td>\n",
       "      <td>5.023881</td>\n",
       "      <td>-0.019545</td>\n",
       "      <td>0.045838</td>\n",
       "    </tr>\n",
       "    <tr>\n",
       "      <th>2015-08-17 18:42:00</th>\n",
       "      <td>152.0</td>\n",
       "      <td>213</td>\n",
       "      <td>5.023881</td>\n",
       "      <td>0.013245</td>\n",
       "      <td>0.032790</td>\n",
       "    </tr>\n",
       "    <tr>\n",
       "      <th>2015-08-17 18:43:00</th>\n",
       "      <td>150.0</td>\n",
       "      <td>214</td>\n",
       "      <td>5.010635</td>\n",
       "      <td>0.006689</td>\n",
       "      <td>-0.006556</td>\n",
       "    </tr>\n",
       "    <tr>\n",
       "      <th>2015-08-17 18:44:00</th>\n",
       "      <td>153.0</td>\n",
       "      <td>215</td>\n",
       "      <td>5.030438</td>\n",
       "      <td>0.033226</td>\n",
       "      <td>0.026537</td>\n",
       "    </tr>\n",
       "    <tr>\n",
       "      <th>2015-08-17 18:45:00</th>\n",
       "      <td>158.0</td>\n",
       "      <td>216</td>\n",
       "      <td>5.062595</td>\n",
       "      <td>0.012739</td>\n",
       "      <td>-0.020487</td>\n",
       "    </tr>\n",
       "    <tr>\n",
       "      <th>2015-08-17 18:46:00</th>\n",
       "      <td>158.0</td>\n",
       "      <td>217</td>\n",
       "      <td>5.062595</td>\n",
       "      <td>0.000000</td>\n",
       "      <td>-0.012739</td>\n",
       "    </tr>\n",
       "    <tr>\n",
       "      <th>2015-08-17 18:47:00</th>\n",
       "      <td>154.0</td>\n",
       "      <td>218</td>\n",
       "      <td>5.036953</td>\n",
       "      <td>-0.031952</td>\n",
       "      <td>-0.031952</td>\n",
       "    </tr>\n",
       "    <tr>\n",
       "      <th>2015-08-17 18:48:00</th>\n",
       "      <td>155.0</td>\n",
       "      <td>219</td>\n",
       "      <td>5.043425</td>\n",
       "      <td>-0.031749</td>\n",
       "      <td>0.000203</td>\n",
       "    </tr>\n",
       "    <tr>\n",
       "      <th>2015-08-17 18:49:00</th>\n",
       "      <td>157.0</td>\n",
       "      <td>220</td>\n",
       "      <td>5.056246</td>\n",
       "      <td>0.012821</td>\n",
       "      <td>0.044569</td>\n",
       "    </tr>\n",
       "    <tr>\n",
       "      <th>2015-08-17 18:50:00</th>\n",
       "      <td>159.0</td>\n",
       "      <td>221</td>\n",
       "      <td>5.068904</td>\n",
       "      <td>0.025479</td>\n",
       "      <td>0.012658</td>\n",
       "    </tr>\n",
       "    <tr>\n",
       "      <th>2015-08-17 18:51:00</th>\n",
       "      <td>151.0</td>\n",
       "      <td>222</td>\n",
       "      <td>5.017280</td>\n",
       "      <td>0.020068</td>\n",
       "      <td>-0.005412</td>\n",
       "    </tr>\n",
       "    <tr>\n",
       "      <th>2015-08-17 18:52:00</th>\n",
       "      <td>140.0</td>\n",
       "      <td>223</td>\n",
       "      <td>4.941642</td>\n",
       "      <td>-0.055570</td>\n",
       "      <td>-0.075637</td>\n",
       "    </tr>\n",
       "    <tr>\n",
       "      <th>2015-08-17 18:53:00</th>\n",
       "      <td>140.0</td>\n",
       "      <td>224</td>\n",
       "      <td>4.941642</td>\n",
       "      <td>-0.082238</td>\n",
       "      <td>-0.026668</td>\n",
       "    </tr>\n",
       "    <tr>\n",
       "      <th>2015-08-17 18:54:00</th>\n",
       "      <td>138.0</td>\n",
       "      <td>225</td>\n",
       "      <td>4.927254</td>\n",
       "      <td>-0.096627</td>\n",
       "      <td>-0.014389</td>\n",
       "    </tr>\n",
       "  </tbody>\n",
       "</table>\n",
       "</div>\n",
       "      <button class=\"colab-df-convert\" onclick=\"convertToInteractive('df-ae43bf6b-08b9-4bf1-a944-9a2b93c71a5c')\"\n",
       "              title=\"Convert this dataframe to an interactive table.\"\n",
       "              style=\"display:none;\">\n",
       "        \n",
       "  <svg xmlns=\"http://www.w3.org/2000/svg\" height=\"24px\"viewBox=\"0 0 24 24\"\n",
       "       width=\"24px\">\n",
       "    <path d=\"M0 0h24v24H0V0z\" fill=\"none\"/>\n",
       "    <path d=\"M18.56 5.44l.94 2.06.94-2.06 2.06-.94-2.06-.94-.94-2.06-.94 2.06-2.06.94zm-11 1L8.5 8.5l.94-2.06 2.06-.94-2.06-.94L8.5 2.5l-.94 2.06-2.06.94zm10 10l.94 2.06.94-2.06 2.06-.94-2.06-.94-.94-2.06-.94 2.06-2.06.94z\"/><path d=\"M17.41 7.96l-1.37-1.37c-.4-.4-.92-.59-1.43-.59-.52 0-1.04.2-1.43.59L10.3 9.45l-7.72 7.72c-.78.78-.78 2.05 0 2.83L4 21.41c.39.39.9.59 1.41.59.51 0 1.02-.2 1.41-.59l7.78-7.78 2.81-2.81c.8-.78.8-2.07 0-2.86zM5.41 20L4 18.59l7.72-7.72 1.47 1.35L5.41 20z\"/>\n",
       "  </svg>\n",
       "      </button>\n",
       "      \n",
       "  <style>\n",
       "    .colab-df-container {\n",
       "      display:flex;\n",
       "      flex-wrap:wrap;\n",
       "      gap: 12px;\n",
       "    }\n",
       "\n",
       "    .colab-df-convert {\n",
       "      background-color: #E8F0FE;\n",
       "      border: none;\n",
       "      border-radius: 50%;\n",
       "      cursor: pointer;\n",
       "      display: none;\n",
       "      fill: #1967D2;\n",
       "      height: 32px;\n",
       "      padding: 0 0 0 0;\n",
       "      width: 32px;\n",
       "    }\n",
       "\n",
       "    .colab-df-convert:hover {\n",
       "      background-color: #E2EBFA;\n",
       "      box-shadow: 0px 1px 2px rgba(60, 64, 67, 0.3), 0px 1px 3px 1px rgba(60, 64, 67, 0.15);\n",
       "      fill: #174EA6;\n",
       "    }\n",
       "\n",
       "    [theme=dark] .colab-df-convert {\n",
       "      background-color: #3B4455;\n",
       "      fill: #D2E3FC;\n",
       "    }\n",
       "\n",
       "    [theme=dark] .colab-df-convert:hover {\n",
       "      background-color: #434B5C;\n",
       "      box-shadow: 0px 1px 3px 1px rgba(0, 0, 0, 0.15);\n",
       "      filter: drop-shadow(0px 1px 2px rgba(0, 0, 0, 0.3));\n",
       "      fill: #FFFFFF;\n",
       "    }\n",
       "  </style>\n",
       "\n",
       "      <script>\n",
       "        const buttonEl =\n",
       "          document.querySelector('#df-ae43bf6b-08b9-4bf1-a944-9a2b93c71a5c button.colab-df-convert');\n",
       "        buttonEl.style.display =\n",
       "          google.colab.kernel.accessAllowed ? 'block' : 'none';\n",
       "\n",
       "        async function convertToInteractive(key) {\n",
       "          const element = document.querySelector('#df-ae43bf6b-08b9-4bf1-a944-9a2b93c71a5c');\n",
       "          const dataTable =\n",
       "            await google.colab.kernel.invokeFunction('convertToInteractive',\n",
       "                                                     [key], {});\n",
       "          if (!dataTable) return;\n",
       "\n",
       "          const docLinkHtml = 'Like what you see? Visit the ' +\n",
       "            '<a target=\"_blank\" href=https://colab.research.google.com/notebooks/data_table.ipynb>data table notebook</a>'\n",
       "            + ' to learn more about interactive tables.';\n",
       "          element.innerHTML = '';\n",
       "          dataTable['output_type'] = 'display_data';\n",
       "          await google.colab.output.renderOutput(dataTable, element);\n",
       "          const docLink = document.createElement('div');\n",
       "          docLink.innerHTML = docLinkHtml;\n",
       "          element.appendChild(docLink);\n",
       "        }\n",
       "      </script>\n",
       "    </div>\n",
       "  </div>\n",
       "  "
      ],
      "text/plain": [
       "                     Lifetouch Heart Rate  ...  Differenced-LHR\n",
       "Timestamp (GMT)                            ...                 \n",
       "2015-08-17 18:40:00                 148.0  ...        -0.025642\n",
       "2015-08-17 18:41:00                 152.0  ...         0.045838\n",
       "2015-08-17 18:42:00                 152.0  ...         0.032790\n",
       "2015-08-17 18:43:00                 150.0  ...        -0.006556\n",
       "2015-08-17 18:44:00                 153.0  ...         0.026537\n",
       "2015-08-17 18:45:00                 158.0  ...        -0.020487\n",
       "2015-08-17 18:46:00                 158.0  ...        -0.012739\n",
       "2015-08-17 18:47:00                 154.0  ...        -0.031952\n",
       "2015-08-17 18:48:00                 155.0  ...         0.000203\n",
       "2015-08-17 18:49:00                 157.0  ...         0.044569\n",
       "2015-08-17 18:50:00                 159.0  ...         0.012658\n",
       "2015-08-17 18:51:00                 151.0  ...        -0.005412\n",
       "2015-08-17 18:52:00                 140.0  ...        -0.075637\n",
       "2015-08-17 18:53:00                 140.0  ...        -0.026668\n",
       "2015-08-17 18:54:00                 138.0  ...        -0.014389\n",
       "\n",
       "[15 rows x 5 columns]"
      ]
     },
     "execution_count": 311,
     "metadata": {},
     "output_type": "execute_result"
    }
   ],
   "source": [
    "# Differencing\n",
    "\n",
    "df['Differenced-LHR'] = df[['Deseasonalised-LHR']].diff(axis=0, periods=1)\n",
    "df.tail(15)"
   ]
  },
  {
   "cell_type": "code",
   "execution_count": 312,
   "metadata": {
    "colab": {
     "base_uri": "https://localhost:8080/",
     "height": 499
    },
    "executionInfo": {
     "elapsed": 67,
     "status": "ok",
     "timestamp": 1645192755427,
     "user": {
      "displayName": "Akinsola Amudah",
      "photoUrl": "https://lh3.googleusercontent.com/a-/AOh14GhaGpO_NfwGsAReqgHVMP8daYhpObnevoOrkAP3Hg=s64",
      "userId": "00854507567321069616"
     },
     "user_tz": 0
    },
    "id": "M72zHXz02V6V",
    "outputId": "7c721926-0ccc-4d44-ccd1-b80c3ffa5cc0"
   },
   "outputs": [
    {
     "data": {
      "image/png": "[encoded data removed]",
      "text/plain": [
       "<Figure size 864x576 with 1 Axes>"
      ]
     },
     "metadata": {
      "needs_background": "light"
     },
     "output_type": "display_data"
    }
   ],
   "source": [
    "# Differenced-LHR plot\n",
    "\n",
    "plt.figure(figsize=(12, 8))\n",
    "plt.plot(df[\"Minutes-No\"], df['Differenced-LHR'])\n",
    "plt.xticks(np.arange(min(df[\"Minutes-No\"]), max(df[\"Minutes-No\"])+1, 20))\n",
    "plt.legend(labels=\"HeartRate\", loc=2)\n",
    "plt.title(\"Differenced-LHR\")\n",
    "plt.show()"
   ]
  },
  {
   "cell_type": "code",
   "execution_count": 313,
   "metadata": {
    "colab": {
     "base_uri": "https://localhost:8080/"
    },
    "executionInfo": {
     "elapsed": 72,
     "status": "ok",
     "timestamp": 1645192755435,
     "user": {
      "displayName": "Akinsola Amudah",
      "photoUrl": "https://lh3.googleusercontent.com/a-/AOh14GhaGpO_NfwGsAReqgHVMP8daYhpObnevoOrkAP3Hg=s64",
      "userId": "00854507567321069616"
     },
     "user_tz": 0
    },
    "id": "ucBxCeB720AM",
    "outputId": "9882a3b1-52dd-475f-9daf-abbc57cf7c59"
   },
   "outputs": [
    {
     "name": "stdout",
     "output_type": "stream",
     "text": [
      "p value: 0.1\n",
      "Result: The series is stationary \n",
      "\n"
     ]
    }
   ],
   "source": [
    "## Again KPSS test for stationarity\n",
    "\n",
    "check_stationarity(df['Differenced-LHR'][13:])"
   ]
  },
  {
   "cell_type": "code",
   "execution_count": 314,
   "metadata": {
    "colab": {
     "base_uri": "https://localhost:8080/"
    },
    "executionInfo": {
     "elapsed": 57,
     "status": "ok",
     "timestamp": 1645192755437,
     "user": {
      "displayName": "Akinsola Amudah",
      "photoUrl": "https://lh3.googleusercontent.com/a-/AOh14GhaGpO_NfwGsAReqgHVMP8daYhpObnevoOrkAP3Hg=s64",
      "userId": "00854507567321069616"
     },
     "user_tz": 0
    },
    "id": "f1wMKWCmxZmT",
    "outputId": "fea57bfb-7e5a-41f4-a4ed-5ee30987f13f"
   },
   "outputs": [
    {
     "name": "stdout",
     "output_type": "stream",
     "text": [
      "ADF Test Statistic : -7.43731942309769\n",
      "p-value : 6.134605892405097e-11\n",
      "#Lags Used : 12\n",
      "Number of Observations Used : 200\n",
      "strong evidence against the null hypothesis(Ho), reject the null hypothesis. Data has no unit root and is stationary\n"
     ]
    }
   ],
   "source": [
    "## Again dickey fuller test for stationarity\n",
    "adfuller_test(df['Differenced-LHR'][13:])"
   ]
  },
  {
   "cell_type": "markdown",
   "metadata": {
    "id": "k0Qf0Tdu54cv"
   },
   "source": [
    "Auto Regressive Model"
   ]
  },
  {
   "cell_type": "code",
   "execution_count": 315,
   "metadata": {
    "colab": {
     "base_uri": "https://localhost:8080/",
     "height": 499
    },
    "executionInfo": {
     "elapsed": 474,
     "status": "ok",
     "timestamp": 1645192755865,
     "user": {
      "displayName": "Akinsola Amudah",
      "photoUrl": "https://lh3.googleusercontent.com/a-/AOh14GhaGpO_NfwGsAReqgHVMP8daYhpObnevoOrkAP3Hg=s64",
      "userId": "00854507567321069616"
     },
     "user_tz": 0
    },
    "id": "-FjlwdGD57Et",
    "outputId": "066a8859-f1e4-4803-cd31-068d0239c1a9"
   },
   "outputs": [
    {
     "data": {
      "image/png": "[encoded data removed]",
      "text/plain": [
       "<Figure size 864x576 with 2 Axes>"
      ]
     },
     "metadata": {
      "needs_background": "light"
     },
     "output_type": "display_data"
    }
   ],
   "source": [
    "fig = plt.figure(figsize=(12,8))\n",
    "ax1 = fig.add_subplot(211)\n",
    "fig = sm.graphics.tsa.plot_acf(df['Differenced-LHR'].iloc[13:],lags=12,ax=ax1)\n",
    "ax2 = fig.add_subplot(212)\n",
    "fig = sm.graphics.tsa.plot_pacf(df['Differenced-LHR'].iloc[13:],lags=12,ax=ax2)"
   ]
  },
  {
   "cell_type": "code",
   "execution_count": 316,
   "metadata": {
    "colab": {
     "base_uri": "https://localhost:8080/"
    },
    "executionInfo": {
     "elapsed": 79,
     "status": "ok",
     "timestamp": 1645192755867,
     "user": {
      "displayName": "Akinsola Amudah",
      "photoUrl": "https://lh3.googleusercontent.com/a-/AOh14GhaGpO_NfwGsAReqgHVMP8daYhpObnevoOrkAP3Hg=s64",
      "userId": "00854507567321069616"
     },
     "user_tz": 0
    },
    "id": "7xwy_aIVBn89",
    "outputId": "2e74d161-7196-40be-e7a5-9795cf72a899"
   },
   "outputs": [
    {
     "name": "stdout",
     "output_type": "stream",
     "text": [
      "                            Statespace Model Results                            \n",
      "================================================================================\n",
      "Dep. Variable:     Lifetouch Heart Rate   No. Observations:                  226\n",
      "Model:                 SARIMAX(0, 0, 1)   Log Likelihood               -1285.209\n",
      "Date:                  Fri, 18 Feb 2022   AIC                           2574.417\n",
      "Time:                          13:59:15   BIC                           2581.241\n",
      "Sample:                      08-17-2015   HQIC                          2577.171\n",
      "                           - 08-17-2015                                         \n",
      "Covariance Type:                    opg                                         \n",
      "==============================================================================\n",
      "                 coef    std err          z      P>|z|      [0.025      0.975]\n",
      "------------------------------------------------------------------------------\n",
      "ma.L1          1.0000     35.975      0.028      0.978     -69.511      71.511\n",
      "sigma2      5503.4623   1.97e+05      0.028      0.978    -3.8e+05    3.91e+05\n",
      "===================================================================================\n",
      "Ljung-Box (Q):                     1562.00   Jarque-Bera (JB):                14.50\n",
      "Prob(Q):                              0.00   Prob(JB):                         0.00\n",
      "Heteroskedasticity (H):               1.21   Skew:                            -0.23\n",
      "Prob(H) (two-sided):                  0.41   Kurtosis:                         1.84\n",
      "===================================================================================\n",
      "\n",
      "Warnings:\n",
      "[1] Covariance matrix calculated using the outer product of gradients (complex-step).\n"
     ]
    }
   ],
   "source": [
    "# order - The (p,d,q) order of the model for the number of AR parameters, differences, and MA parameters.\n",
    "# seasonal_order - The (P,D,Q,s) order of the seasonal component of the model for the AR parameters, differences, MA parameters, and periodicity.\n",
    "model = sm.tsa.statespace.SARIMAX(df['Lifetouch Heart Rate'],\n",
    "                                  order=(0, 0, 1),\n",
    "                                  seasonal_order=(0, 0, 0, 12),\n",
    "                                  enforce_stationarity=False,\n",
    "                                  enforce_invertibility=False)\n",
    "# train model\n",
    "model_fit = model.fit()\n",
    "print(model_fit.summary())"
   ]
  },
  {
   "cell_type": "code",
   "execution_count": 317,
   "metadata": {
    "colab": {
     "base_uri": "https://localhost:8080/"
    },
    "executionInfo": {
     "elapsed": 36,
     "status": "ok",
     "timestamp": 1645192755869,
     "user": {
      "displayName": "Akinsola Amudah",
      "photoUrl": "https://lh3.googleusercontent.com/a-/AOh14GhaGpO_NfwGsAReqgHVMP8daYhpObnevoOrkAP3Hg=s64",
      "userId": "00854507567321069616"
     },
     "user_tz": 0
    },
    "id": "nfxieQ_0BypV",
    "outputId": "3e8b3493-d7f9-4c79-ebde-d3fcdfbe1e3f"
   },
   "outputs": [
    {
     "name": "stdout",
     "output_type": "stream",
     "text": [
      "2015-08-17 17:55:00    82.256627\n",
      "2015-08-17 17:56:00    81.250960\n",
      "2015-08-17 17:57:00    84.241578\n",
      "2015-08-17 17:58:00    84.253924\n",
      "2015-08-17 17:59:00    84.244636\n",
      "2015-08-17 18:00:00    85.250937\n",
      "2015-08-17 18:01:00    86.241775\n",
      "2015-08-17 18:02:00    78.300343\n",
      "2015-08-17 18:03:00    84.210079\n",
      "2015-08-17 18:04:00    71.377348\n",
      "2015-08-17 18:05:00    84.139109\n",
      "2015-08-17 18:06:00    76.424195\n",
      "2015-08-17 18:07:00    84.097990\n",
      "2015-08-17 18:08:00    79.453136\n",
      "2015-08-17 18:09:00    80.096895\n",
      "2015-08-17 18:10:00    77.470323\n",
      "2015-08-17 18:11:00    81.079251\n",
      "2015-08-17 18:12:00    72.520098\n",
      "2015-08-17 18:13:00    85.012813\n",
      "2015-08-17 18:14:00    66.623137\n",
      "2015-08-17 18:15:00    92.872138\n",
      "2015-08-17 18:16:00    61.793851\n",
      "2015-08-17 18:17:00    86.739819\n",
      "2015-08-17 18:18:00    63.918381\n",
      "2015-08-17 18:19:00    83.636755\n",
      "2015-08-17 18:20:00    62.035026\n",
      "2015-08-17 18:21:00    91.483495\n",
      "2015-08-17 18:22:00    63.185699\n",
      "2015-08-17 18:23:00    88.354136\n",
      "2015-08-17 18:24:00    63.317801\n",
      "2015-08-17 18:25:00    92.206918\n",
      "2015-08-17 18:26:00    63.467616\n",
      "2015-08-17 18:27:00    89.077918\n",
      "2015-08-17 18:28:00    64.594202\n",
      "2015-08-17 18:29:00    92.936435\n",
      "2015-08-17 18:30:00    61.753256\n",
      "2015-08-17 18:31:00    87.807718\n",
      "2015-08-17 18:32:00    60.889358\n",
      "2015-08-17 18:33:00    86.681537\n",
      "2015-08-17 18:34:00    68.978676\n",
      "2015-08-17 18:35:00    88.587085\n",
      "2015-08-17 18:36:00    70.071114\n",
      "2015-08-17 18:37:00    89.494459\n",
      "2015-08-17 18:38:00    65.190619\n",
      "2015-08-17 18:39:00    89.379682\n",
      "2015-08-17 18:40:00    58.341181\n",
      "2015-08-17 18:41:00    89.233907\n",
      "2015-08-17 18:42:00    62.470034\n",
      "2015-08-17 18:43:00    89.109648\n",
      "2015-08-17 18:44:00    60.605825\n",
      "2015-08-17 18:45:00    91.964446\n",
      "2015-08-17 18:46:00    65.729842\n",
      "2015-08-17 18:47:00    91.844961\n",
      "2015-08-17 18:48:00    61.869932\n",
      "2015-08-17 18:49:00    92.704827\n",
      "2015-08-17 18:50:00    64.002929\n",
      "2015-08-17 18:51:00    94.567231\n",
      "2015-08-17 18:52:00    56.178574\n",
      "2015-08-17 18:53:00    83.445554\n",
      "2015-08-17 18:54:00    56.301977\n",
      "Freq: T, dtype: float64\n"
     ]
    }
   ],
   "source": [
    "# make predictions\n",
    "preds = model_fit.predict(start=pd.to_datetime('2015-08-17 17:55:00'), end=pd.to_datetime('2015-08-17 18:54:00'), dynamic=False)\n",
    "print(preds)"
   ]
  },
  {
   "cell_type": "code",
   "execution_count": 318,
   "metadata": {
    "colab": {
     "base_uri": "https://localhost:8080/"
    },
    "executionInfo": {
     "elapsed": 31935,
     "status": "ok",
     "timestamp": 1645192787781,
     "user": {
      "displayName": "Akinsola Amudah",
      "photoUrl": "https://lh3.googleusercontent.com/a-/AOh14GhaGpO_NfwGsAReqgHVMP8daYhpObnevoOrkAP3Hg=s64",
      "userId": "00854507567321069616"
     },
     "user_tz": 0
    },
    "id": "bc_p3_u1B81a",
    "outputId": "a5b609f1-bee1-4315-9cc0-bc05d32300c6"
   },
   "outputs": [
    {
     "name": "stdout",
     "output_type": "stream",
     "text": [
      "ARIMA(0, 0, 0)x(1, 1, 1, 12)12 - AIC:1451.4779180910155\n",
      "ARIMA(0, 0, 1)x(1, 1, 1, 12)12 - AIC:1368.2168976244434\n",
      "ARIMA(0, 0, 2)x(1, 1, 1, 12)12 - AIC:1341.471712605175\n",
      "ARIMA(0, 1, 0)x(1, 1, 1, 12)12 - AIC:1284.1988250047714\n",
      "ARIMA(0, 1, 1)x(1, 1, 1, 12)12 - AIC:1247.628599510941\n",
      "ARIMA(0, 1, 2)x(1, 1, 1, 12)12 - AIC:1243.336471813433\n",
      "ARIMA(0, 2, 0)x(1, 1, 1, 12)12 - AIC:1462.3394556628164\n",
      "ARIMA(0, 2, 1)x(1, 1, 1, 12)12 - AIC:1266.672111410879\n",
      "ARIMA(0, 2, 2)x(1, 1, 1, 12)12 - AIC:1233.0793739054961\n",
      "ARIMA(1, 0, 0)x(1, 1, 1, 12)12 - AIC:1268.2507406215036\n",
      "ARIMA(1, 0, 1)x(1, 1, 1, 12)12 - AIC:1252.694523281149\n",
      "ARIMA(1, 0, 2)x(1, 1, 1, 12)12 - AIC:1247.9139053587655\n",
      "ARIMA(1, 1, 0)x(1, 1, 1, 12)12 - AIC:1248.2312976284002\n",
      "ARIMA(1, 1, 1)x(1, 1, 1, 12)12 - AIC:1249.6284559705703\n",
      "ARIMA(1, 1, 2)x(1, 1, 1, 12)12 - AIC:1243.9241463791982\n",
      "ARIMA(1, 2, 0)x(1, 1, 1, 12)12 - AIC:1373.9285323799595\n",
      "ARIMA(1, 2, 1)x(1, 1, 1, 12)12 - AIC:1244.046169408604\n",
      "ARIMA(1, 2, 2)x(1, 1, 1, 12)12 - AIC:1235.0559556502471\n",
      "ARIMA(2, 0, 0)x(1, 1, 1, 12)12 - AIC:1244.7243887105412\n",
      "ARIMA(2, 0, 1)x(1, 1, 1, 12)12 - AIC:1254.610507750435\n",
      "ARIMA(2, 0, 2)x(1, 1, 1, 12)12 - AIC:1238.817596492818\n",
      "ARIMA(2, 1, 0)x(1, 1, 1, 12)12 - AIC:1235.7126648751591\n",
      "ARIMA(2, 1, 1)x(1, 1, 1, 12)12 - AIC:1235.3306981890114\n",
      "ARIMA(2, 1, 2)x(1, 1, 1, 12)12 - AIC:1230.4432440921837\n",
      "ARIMA(2, 2, 0)x(1, 1, 1, 12)12 - AIC:1293.6433680011885\n",
      "ARIMA(2, 2, 1)x(1, 1, 1, 12)12 - AIC:1237.724780174164\n",
      "ARIMA(2, 2, 2)x(1, 1, 1, 12)12 - AIC:1232.001879562707\n"
     ]
    }
   ],
   "source": [
    "p = d = q = range(0, 3)\n",
    "\n",
    "# generate all different combinations of p, q and q triplets\n",
    "pdq = list(itertools.product(p, d, q))\n",
    "# generate all different combinations of seasonal p, q and q triplets\n",
    "# seasonal_pdq = [(x[0], x[1], x[2], 12) for x in list(itertools.product(p, d, q))]\n",
    "seasonal_pdq = [(1, 1, 1, 12)]\n",
    "\n",
    "for param in pdq:\n",
    "    for param_seasonal in seasonal_pdq:\n",
    "          mod = sm.tsa.statespace.SARIMAX(df['Lifetouch Heart Rate'],\n",
    "                                          order=param,\n",
    "                                          seasonal_order=param_seasonal,\n",
    "                                          enforce_stationarity=False,\n",
    "                                          enforce_invertibility=False)\n",
    "\n",
    "          mod_fit = mod.fit()\n",
    "\n",
    "          print('ARIMA{}x{}12 - AIC:{}'.format(param, param_seasonal, mod_fit.aic))"
   ]
  },
  {
   "cell_type": "code",
   "execution_count": 331,
   "metadata": {
    "colab": {
     "base_uri": "https://localhost:8080/"
    },
    "executionInfo": {
     "elapsed": 4547,
     "status": "ok",
     "timestamp": 1645199966877,
     "user": {
      "displayName": "Akinsola Amudah",
      "photoUrl": "https://lh3.googleusercontent.com/a-/AOh14GhaGpO_NfwGsAReqgHVMP8daYhpObnevoOrkAP3Hg=s64",
      "userId": "00854507567321069616"
     },
     "user_tz": 0
    },
    "id": "_0fO8xisEXK8",
    "outputId": "916c1877-d098-4444-9a42-5581fa644923"
   },
   "outputs": [
    {
     "name": "stdout",
     "output_type": "stream",
     "text": [
      "                                 Statespace Model Results                                 \n",
      "==========================================================================================\n",
      "Dep. Variable:               Lifetouch Heart Rate   No. Observations:                  226\n",
      "Model:             SARIMAX(2, 1, 2)x(1, 1, 1, 12)   Log Likelihood                -608.222\n",
      "Date:                            Fri, 18 Feb 2022   AIC                           1230.443\n",
      "Time:                                    15:59:27   BIC                           1253.461\n",
      "Sample:                                08-17-2015   HQIC                          1239.760\n",
      "                                     - 08-17-2015                                         \n",
      "Covariance Type:                              opg                                         \n",
      "==============================================================================\n",
      "                 coef    std err          z      P>|z|      [0.025      0.975]\n",
      "------------------------------------------------------------------------------\n",
      "ar.L1         -0.7764      0.234     -3.314      0.001      -1.236      -0.317\n",
      "ar.L2         -0.4554      0.192     -2.378      0.017      -0.831      -0.080\n",
      "ma.L1          0.3929      0.254      1.549      0.122      -0.104       0.890\n",
      "ma.L2          0.1572      0.217      0.725      0.468      -0.268       0.582\n",
      "ar.S.L12    7.945e-06      0.065      0.000      1.000      -0.128       0.128\n",
      "ma.S.L12      -0.9223      0.100     -9.238      0.000      -1.118      -0.727\n",
      "sigma2        25.3454      2.488     10.188      0.000      20.470      30.221\n",
      "===================================================================================\n",
      "Ljung-Box (Q):                       19.08   Jarque-Bera (JB):               418.38\n",
      "Prob(Q):                              1.00   Prob(JB):                         0.00\n",
      "Heteroskedasticity (H):               0.53   Skew:                            -0.08\n",
      "Prob(H) (two-sided):                  0.01   Kurtosis:                        10.12\n",
      "===================================================================================\n",
      "\n",
      "Warnings:\n",
      "[1] Covariance matrix calculated using the outer product of gradients (complex-step).\n"
     ]
    }
   ],
   "source": [
    "# order - The (p,d,q) order of the model for the number of AR parameters, differences, and MA parameters.\n",
    "# seasonal_order - The (P,D,Q,s) order of the seasonal component of the model for the AR parameters, differences, MA parameters, and periodicity.\n",
    "model = sm.tsa.statespace.SARIMAX(df['Lifetouch Heart Rate'],\n",
    "                                  order=(2, 1, 2),\n",
    "                                  seasonal_order=(1, 1, 1, 12),\n",
    "                                  enforce_stationarity=False,\n",
    "                                  enforce_invertibility=False)\n",
    "# train model\n",
    "model_fit = model.fit(disp=0)\n",
    "print(model_fit.summary())"
   ]
  },
  {
   "cell_type": "code",
   "execution_count": 320,
   "metadata": {
    "colab": {
     "base_uri": "https://localhost:8080/"
    },
    "executionInfo": {
     "elapsed": 18,
     "status": "ok",
     "timestamp": 1645192789685,
     "user": {
      "displayName": "Akinsola Amudah",
      "photoUrl": "https://lh3.googleusercontent.com/a-/AOh14GhaGpO_NfwGsAReqgHVMP8daYhpObnevoOrkAP3Hg=s64",
      "userId": "00854507567321069616"
     },
     "user_tz": 0
    },
    "id": "Kw8Q0Vd3Ee3q",
    "outputId": "78eab847-ed27-424c-9905-6b8838d35124"
   },
   "outputs": [
    {
     "name": "stdout",
     "output_type": "stream",
     "text": [
      "2015-08-17 17:55:00    162.680448\n",
      "2015-08-17 17:56:00    159.726088\n",
      "2015-08-17 17:57:00    166.418125\n",
      "2015-08-17 17:58:00    166.941401\n",
      "2015-08-17 17:59:00    168.089484\n",
      "2015-08-17 18:00:00    170.264620\n",
      "2015-08-17 18:01:00    169.564790\n",
      "2015-08-17 18:02:00    167.914331\n",
      "2015-08-17 18:03:00    167.250840\n",
      "2015-08-17 18:04:00    159.948777\n",
      "2015-08-17 18:05:00    156.952252\n",
      "2015-08-17 18:06:00    160.263002\n",
      "2015-08-17 18:07:00    160.667257\n",
      "2015-08-17 18:08:00    161.757629\n",
      "2015-08-17 18:09:00    161.833960\n",
      "2015-08-17 18:10:00    159.162833\n",
      "2015-08-17 18:11:00    158.007179\n",
      "2015-08-17 18:12:00    156.062684\n",
      "2015-08-17 18:13:00    155.561135\n",
      "2015-08-17 18:14:00    153.051960\n",
      "2015-08-17 18:15:00    159.550930\n",
      "2015-08-17 18:16:00    156.484717\n",
      "2015-08-17 18:17:00    153.432061\n",
      "2015-08-17 18:18:00    152.382666\n",
      "2015-08-17 18:19:00    148.730527\n",
      "2015-08-17 18:20:00    145.787961\n",
      "2015-08-17 18:21:00    151.383890\n",
      "2015-08-17 18:22:00    152.680161\n",
      "2015-08-17 18:23:00    153.278772\n",
      "2015-08-17 18:24:00    153.021355\n",
      "2015-08-17 18:25:00    151.809290\n",
      "2015-08-17 18:26:00    156.134598\n",
      "2015-08-17 18:27:00    155.400209\n",
      "2015-08-17 18:28:00    154.745341\n",
      "2015-08-17 18:29:00    156.096426\n",
      "2015-08-17 18:30:00    157.331441\n",
      "2015-08-17 18:31:00    153.172684\n",
      "2015-08-17 18:32:00    148.478436\n",
      "2015-08-17 18:33:00    148.858124\n",
      "2015-08-17 18:34:00    152.547645\n",
      "2015-08-17 18:35:00    155.080747\n",
      "2015-08-17 18:36:00    160.179188\n",
      "2015-08-17 18:37:00    157.716526\n",
      "2015-08-17 18:38:00    157.082478\n",
      "2015-08-17 18:39:00    156.500413\n",
      "2015-08-17 18:40:00    151.162753\n",
      "2015-08-17 18:41:00    149.204827\n",
      "2015-08-17 18:42:00    150.594535\n",
      "2015-08-17 18:43:00    151.505338\n",
      "2015-08-17 18:44:00    150.108795\n",
      "2015-08-17 18:45:00    153.510172\n",
      "2015-08-17 18:46:00    155.268762\n",
      "2015-08-17 18:47:00    157.150575\n",
      "2015-08-17 18:48:00    156.964577\n",
      "2015-08-17 18:49:00    152.993455\n",
      "2015-08-17 18:50:00    155.731602\n",
      "2015-08-17 18:51:00    158.070455\n",
      "2015-08-17 18:52:00    154.836902\n",
      "2015-08-17 18:53:00    145.858111\n",
      "2015-08-17 18:54:00    141.649729\n",
      "Freq: T, dtype: float64\n",
      "Root Mean Squared Error: 4.62\n"
     ]
    }
   ],
   "source": [
    "# make predictions\n",
    "preds = model_fit.predict(start=pd.to_datetime('2015-08-17 17:55:00'), end=pd.to_datetime('2015-08-17 18:54:00'), dynamic=False)\n",
    "print(preds)\n",
    "\n",
    "# calculate RMSE\n",
    "actuals = df[\"Lifetouch Heart Rate\"]\n",
    "actuals = actuals.loc[\"2015-08-17 17:55:0\":\"2015-08-17 18:54:00\"]\n",
    "print(f'Root Mean Squared Error: {round(np.sqrt(mean_squared_error(actuals, preds)), 2)}')"
   ]
  },
  {
   "cell_type": "code",
   "execution_count": 321,
   "metadata": {
    "colab": {
     "base_uri": "https://localhost:8080/",
     "height": 513
    },
    "executionInfo": {
     "elapsed": 681,
     "status": "ok",
     "timestamp": 1645192790353,
     "user": {
      "displayName": "Akinsola Amudah",
      "photoUrl": "https://lh3.googleusercontent.com/a-/AOh14GhaGpO_NfwGsAReqgHVMP8daYhpObnevoOrkAP3Hg=s64",
      "userId": "00854507567321069616"
     },
     "user_tz": 0
    },
    "id": "1jY9j8d2FMeA",
    "outputId": "d3ead335-7ee2-4613-bf17-e7ee4363aef3"
   },
   "outputs": [
    {
     "data": {
      "image/png": "[encoded data removed]",
      "text/plain": [
       "<Figure size 864x576 with 1 Axes>"
      ]
     },
     "metadata": {
      "needs_background": "light"
     },
     "output_type": "display_data"
    }
   ],
   "source": [
    "# plot observations and predictions\n",
    "ax = df[\"Lifetouch Heart Rate\"].plot(label='observed', figsize=(12, 8))\n",
    "preds.plot(ax=ax, label='predicted', alpha=.7)\n",
    "\n",
    "ax.set_xlabel('Time')\n",
    "ax.set_ylabel('Heart Rate')\n",
    "plt.legend()\n",
    "plt.title(\"Observed vs Prediction\")\n",
    "plt.show()"
   ]
  },
  {
   "cell_type": "code",
   "execution_count": 322,
   "metadata": {
    "colab": {
     "base_uri": "https://localhost:8080/"
    },
    "executionInfo": {
     "elapsed": 72,
     "status": "ok",
     "timestamp": 1645192790354,
     "user": {
      "displayName": "Akinsola Amudah",
      "photoUrl": "https://lh3.googleusercontent.com/a-/AOh14GhaGpO_NfwGsAReqgHVMP8daYhpObnevoOrkAP3Hg=s64",
      "userId": "00854507567321069616"
     },
     "user_tz": 0
    },
    "id": "IV2Qkf-OF6dI",
    "outputId": "3498b02f-fc29-46a5-9d43-6e5b2dac52bb"
   },
   "outputs": [
    {
     "name": "stdout",
     "output_type": "stream",
     "text": [
      "2015-08-17 18:55:00    137.488771\n",
      "2015-08-17 18:56:00    137.368578\n",
      "2015-08-17 18:57:00    139.193077\n",
      "2015-08-17 18:58:00    138.561571\n",
      "2015-08-17 18:59:00    137.752699\n",
      "2015-08-17 19:00:00    139.097356\n",
      "2015-08-17 19:01:00    136.870796\n",
      "2015-08-17 19:02:00    137.849771\n",
      "2015-08-17 19:03:00    137.282758\n",
      "2015-08-17 19:04:00    136.614057\n",
      "2015-08-17 19:05:00    136.910739\n",
      "2015-08-17 19:06:00    137.550025\n",
      "2015-08-17 19:07:00    137.007851\n",
      "2015-08-17 19:08:00    136.234328\n",
      "2015-08-17 19:09:00    138.580143\n",
      "2015-08-17 19:10:00    137.841395\n",
      "2015-08-17 19:11:00    136.878368\n",
      "2015-08-17 19:12:00    138.391577\n",
      "2015-08-17 19:13:00    136.104338\n",
      "2015-08-17 19:14:00    137.053626\n",
      "Freq: T, dtype: float64\n"
     ]
    }
   ],
   "source": [
    "# Forecasting beyond the sample\n",
    "forecasts = model_fit.forecast(steps=20)\n",
    "print(forecasts)"
   ]
  },
  {
   "cell_type": "code",
   "execution_count": 323,
   "metadata": {
    "colab": {
     "base_uri": "https://localhost:8080/",
     "height": 677
    },
    "executionInfo": {
     "elapsed": 68,
     "status": "ok",
     "timestamp": 1645192790356,
     "user": {
      "displayName": "Akinsola Amudah",
      "photoUrl": "https://lh3.googleusercontent.com/a-/AOh14GhaGpO_NfwGsAReqgHVMP8daYhpObnevoOrkAP3Hg=s64",
      "userId": "00854507567321069616"
     },
     "user_tz": 0
    },
    "id": "RDREEFFxGEa5",
    "outputId": "bdb11337-4f75-4f2a-8f0f-dd3f09db269a"
   },
   "outputs": [
    {
     "data": {
      "text/html": [
       "\n",
       "  <div id=\"df-fd8963c7-03cb-487b-bb0f-50de806b1323\">\n",
       "    <div class=\"colab-df-container\">\n",
       "      <div>\n",
       "<style scoped>\n",
       "    .dataframe tbody tr th:only-of-type {\n",
       "        vertical-align: middle;\n",
       "    }\n",
       "\n",
       "    .dataframe tbody tr th {\n",
       "        vertical-align: top;\n",
       "    }\n",
       "\n",
       "    .dataframe thead th {\n",
       "        text-align: right;\n",
       "    }\n",
       "</style>\n",
       "<table border=\"1\" class=\"dataframe\">\n",
       "  <thead>\n",
       "    <tr style=\"text-align: right;\">\n",
       "      <th></th>\n",
       "      <th>Forecasted Heart Rate</th>\n",
       "    </tr>\n",
       "  </thead>\n",
       "  <tbody>\n",
       "    <tr>\n",
       "      <th>2015-08-17 18:55:00</th>\n",
       "      <td>137.488771</td>\n",
       "    </tr>\n",
       "    <tr>\n",
       "      <th>2015-08-17 18:56:00</th>\n",
       "      <td>137.368578</td>\n",
       "    </tr>\n",
       "    <tr>\n",
       "      <th>2015-08-17 18:57:00</th>\n",
       "      <td>139.193077</td>\n",
       "    </tr>\n",
       "    <tr>\n",
       "      <th>2015-08-17 18:58:00</th>\n",
       "      <td>138.561571</td>\n",
       "    </tr>\n",
       "    <tr>\n",
       "      <th>2015-08-17 18:59:00</th>\n",
       "      <td>137.752699</td>\n",
       "    </tr>\n",
       "    <tr>\n",
       "      <th>2015-08-17 19:00:00</th>\n",
       "      <td>139.097356</td>\n",
       "    </tr>\n",
       "    <tr>\n",
       "      <th>2015-08-17 19:01:00</th>\n",
       "      <td>136.870796</td>\n",
       "    </tr>\n",
       "    <tr>\n",
       "      <th>2015-08-17 19:02:00</th>\n",
       "      <td>137.849771</td>\n",
       "    </tr>\n",
       "    <tr>\n",
       "      <th>2015-08-17 19:03:00</th>\n",
       "      <td>137.282758</td>\n",
       "    </tr>\n",
       "    <tr>\n",
       "      <th>2015-08-17 19:04:00</th>\n",
       "      <td>136.614057</td>\n",
       "    </tr>\n",
       "    <tr>\n",
       "      <th>2015-08-17 19:05:00</th>\n",
       "      <td>136.910739</td>\n",
       "    </tr>\n",
       "    <tr>\n",
       "      <th>2015-08-17 19:06:00</th>\n",
       "      <td>137.550025</td>\n",
       "    </tr>\n",
       "    <tr>\n",
       "      <th>2015-08-17 19:07:00</th>\n",
       "      <td>137.007851</td>\n",
       "    </tr>\n",
       "    <tr>\n",
       "      <th>2015-08-17 19:08:00</th>\n",
       "      <td>136.234328</td>\n",
       "    </tr>\n",
       "    <tr>\n",
       "      <th>2015-08-17 19:09:00</th>\n",
       "      <td>138.580143</td>\n",
       "    </tr>\n",
       "    <tr>\n",
       "      <th>2015-08-17 19:10:00</th>\n",
       "      <td>137.841395</td>\n",
       "    </tr>\n",
       "    <tr>\n",
       "      <th>2015-08-17 19:11:00</th>\n",
       "      <td>136.878368</td>\n",
       "    </tr>\n",
       "    <tr>\n",
       "      <th>2015-08-17 19:12:00</th>\n",
       "      <td>138.391577</td>\n",
       "    </tr>\n",
       "    <tr>\n",
       "      <th>2015-08-17 19:13:00</th>\n",
       "      <td>136.104338</td>\n",
       "    </tr>\n",
       "    <tr>\n",
       "      <th>2015-08-17 19:14:00</th>\n",
       "      <td>137.053626</td>\n",
       "    </tr>\n",
       "  </tbody>\n",
       "</table>\n",
       "</div>\n",
       "      <button class=\"colab-df-convert\" onclick=\"convertToInteractive('df-fd8963c7-03cb-487b-bb0f-50de806b1323')\"\n",
       "              title=\"Convert this dataframe to an interactive table.\"\n",
       "              style=\"display:none;\">\n",
       "        \n",
       "  <svg xmlns=\"http://www.w3.org/2000/svg\" height=\"24px\"viewBox=\"0 0 24 24\"\n",
       "       width=\"24px\">\n",
       "    <path d=\"M0 0h24v24H0V0z\" fill=\"none\"/>\n",
       "    <path d=\"M18.56 5.44l.94 2.06.94-2.06 2.06-.94-2.06-.94-.94-2.06-.94 2.06-2.06.94zm-11 1L8.5 8.5l.94-2.06 2.06-.94-2.06-.94L8.5 2.5l-.94 2.06-2.06.94zm10 10l.94 2.06.94-2.06 2.06-.94-2.06-.94-.94-2.06-.94 2.06-2.06.94z\"/><path d=\"M17.41 7.96l-1.37-1.37c-.4-.4-.92-.59-1.43-.59-.52 0-1.04.2-1.43.59L10.3 9.45l-7.72 7.72c-.78.78-.78 2.05 0 2.83L4 21.41c.39.39.9.59 1.41.59.51 0 1.02-.2 1.41-.59l7.78-7.78 2.81-2.81c.8-.78.8-2.07 0-2.86zM5.41 20L4 18.59l7.72-7.72 1.47 1.35L5.41 20z\"/>\n",
       "  </svg>\n",
       "      </button>\n",
       "      \n",
       "  <style>\n",
       "    .colab-df-container {\n",
       "      display:flex;\n",
       "      flex-wrap:wrap;\n",
       "      gap: 12px;\n",
       "    }\n",
       "\n",
       "    .colab-df-convert {\n",
       "      background-color: #E8F0FE;\n",
       "      border: none;\n",
       "      border-radius: 50%;\n",
       "      cursor: pointer;\n",
       "      display: none;\n",
       "      fill: #1967D2;\n",
       "      height: 32px;\n",
       "      padding: 0 0 0 0;\n",
       "      width: 32px;\n",
       "    }\n",
       "\n",
       "    .colab-df-convert:hover {\n",
       "      background-color: #E2EBFA;\n",
       "      box-shadow: 0px 1px 2px rgba(60, 64, 67, 0.3), 0px 1px 3px 1px rgba(60, 64, 67, 0.15);\n",
       "      fill: #174EA6;\n",
       "    }\n",
       "\n",
       "    [theme=dark] .colab-df-convert {\n",
       "      background-color: #3B4455;\n",
       "      fill: #D2E3FC;\n",
       "    }\n",
       "\n",
       "    [theme=dark] .colab-df-convert:hover {\n",
       "      background-color: #434B5C;\n",
       "      box-shadow: 0px 1px 3px 1px rgba(0, 0, 0, 0.15);\n",
       "      filter: drop-shadow(0px 1px 2px rgba(0, 0, 0, 0.3));\n",
       "      fill: #FFFFFF;\n",
       "    }\n",
       "  </style>\n",
       "\n",
       "      <script>\n",
       "        const buttonEl =\n",
       "          document.querySelector('#df-fd8963c7-03cb-487b-bb0f-50de806b1323 button.colab-df-convert');\n",
       "        buttonEl.style.display =\n",
       "          google.colab.kernel.accessAllowed ? 'block' : 'none';\n",
       "\n",
       "        async function convertToInteractive(key) {\n",
       "          const element = document.querySelector('#df-fd8963c7-03cb-487b-bb0f-50de806b1323');\n",
       "          const dataTable =\n",
       "            await google.colab.kernel.invokeFunction('convertToInteractive',\n",
       "                                                     [key], {});\n",
       "          if (!dataTable) return;\n",
       "\n",
       "          const docLinkHtml = 'Like what you see? Visit the ' +\n",
       "            '<a target=\"_blank\" href=https://colab.research.google.com/notebooks/data_table.ipynb>data table notebook</a>'\n",
       "            + ' to learn more about interactive tables.';\n",
       "          element.innerHTML = '';\n",
       "          dataTable['output_type'] = 'display_data';\n",
       "          await google.colab.output.renderOutput(dataTable, element);\n",
       "          const docLink = document.createElement('div');\n",
       "          docLink.innerHTML = docLinkHtml;\n",
       "          element.appendChild(docLink);\n",
       "        }\n",
       "      </script>\n",
       "    </div>\n",
       "  </div>\n",
       "  "
      ],
      "text/plain": [
       "                     Forecasted Heart Rate\n",
       "2015-08-17 18:55:00             137.488771\n",
       "2015-08-17 18:56:00             137.368578\n",
       "2015-08-17 18:57:00             139.193077\n",
       "2015-08-17 18:58:00             138.561571\n",
       "2015-08-17 18:59:00             137.752699\n",
       "2015-08-17 19:00:00             139.097356\n",
       "2015-08-17 19:01:00             136.870796\n",
       "2015-08-17 19:02:00             137.849771\n",
       "2015-08-17 19:03:00             137.282758\n",
       "2015-08-17 19:04:00             136.614057\n",
       "2015-08-17 19:05:00             136.910739\n",
       "2015-08-17 19:06:00             137.550025\n",
       "2015-08-17 19:07:00             137.007851\n",
       "2015-08-17 19:08:00             136.234328\n",
       "2015-08-17 19:09:00             138.580143\n",
       "2015-08-17 19:10:00             137.841395\n",
       "2015-08-17 19:11:00             136.878368\n",
       "2015-08-17 19:12:00             138.391577\n",
       "2015-08-17 19:13:00             136.104338\n",
       "2015-08-17 19:14:00             137.053626"
      ]
     },
     "execution_count": 323,
     "metadata": {},
     "output_type": "execute_result"
    }
   ],
   "source": [
    "forecasts = pd.DataFrame(data=forecasts,columns=[\"Forecasted Heart Rate\"])\n",
    "forecasts"
   ]
  },
  {
   "cell_type": "code",
   "execution_count": 324,
   "metadata": {
    "executionInfo": {
     "elapsed": 67,
     "status": "ok",
     "timestamp": 1645192790357,
     "user": {
      "displayName": "Akinsola Amudah",
      "photoUrl": "https://lh3.googleusercontent.com/a-/AOh14GhaGpO_NfwGsAReqgHVMP8daYhpObnevoOrkAP3Hg=s64",
      "userId": "00854507567321069616"
     },
     "user_tz": 0
    },
    "id": "TJnJ_kk9GJL2"
   },
   "outputs": [],
   "source": [
    "forecasts.to_csv('Forecast(20 minutes).csv')"
   ]
  },
  {
   "cell_type": "code",
   "execution_count": 325,
   "metadata": {
    "colab": {
     "base_uri": "https://localhost:8080/",
     "height": 677
    },
    "executionInfo": {
     "elapsed": 67,
     "status": "ok",
     "timestamp": 1645192790358,
     "user": {
      "displayName": "Akinsola Amudah",
      "photoUrl": "https://lh3.googleusercontent.com/a-/AOh14GhaGpO_NfwGsAReqgHVMP8daYhpObnevoOrkAP3Hg=s64",
      "userId": "00854507567321069616"
     },
     "user_tz": 0
    },
    "id": "DKNe1n3uGRd_",
    "outputId": "7b60ffe8-2285-49ed-9260-9bdcebfdba63"
   },
   "outputs": [
    {
     "data": {
      "text/html": [
       "\n",
       "  <div id=\"df-cb9bcbb0-5200-4b9c-968a-19934c6f459f\">\n",
       "    <div class=\"colab-df-container\">\n",
       "      <div>\n",
       "<style scoped>\n",
       "    .dataframe tbody tr th:only-of-type {\n",
       "        vertical-align: middle;\n",
       "    }\n",
       "\n",
       "    .dataframe tbody tr th {\n",
       "        vertical-align: top;\n",
       "    }\n",
       "\n",
       "    .dataframe thead th {\n",
       "        text-align: right;\n",
       "    }\n",
       "</style>\n",
       "<table border=\"1\" class=\"dataframe\">\n",
       "  <thead>\n",
       "    <tr style=\"text-align: right;\">\n",
       "      <th></th>\n",
       "      <th>Forecasted Heart Rate</th>\n",
       "      <th>Minutes-No</th>\n",
       "    </tr>\n",
       "  </thead>\n",
       "  <tbody>\n",
       "    <tr>\n",
       "      <th>2015-08-17 18:55:00</th>\n",
       "      <td>137.488771</td>\n",
       "      <td>226</td>\n",
       "    </tr>\n",
       "    <tr>\n",
       "      <th>2015-08-17 18:56:00</th>\n",
       "      <td>137.368578</td>\n",
       "      <td>227</td>\n",
       "    </tr>\n",
       "    <tr>\n",
       "      <th>2015-08-17 18:57:00</th>\n",
       "      <td>139.193077</td>\n",
       "      <td>228</td>\n",
       "    </tr>\n",
       "    <tr>\n",
       "      <th>2015-08-17 18:58:00</th>\n",
       "      <td>138.561571</td>\n",
       "      <td>229</td>\n",
       "    </tr>\n",
       "    <tr>\n",
       "      <th>2015-08-17 18:59:00</th>\n",
       "      <td>137.752699</td>\n",
       "      <td>230</td>\n",
       "    </tr>\n",
       "    <tr>\n",
       "      <th>2015-08-17 19:00:00</th>\n",
       "      <td>139.097356</td>\n",
       "      <td>231</td>\n",
       "    </tr>\n",
       "    <tr>\n",
       "      <th>2015-08-17 19:01:00</th>\n",
       "      <td>136.870796</td>\n",
       "      <td>232</td>\n",
       "    </tr>\n",
       "    <tr>\n",
       "      <th>2015-08-17 19:02:00</th>\n",
       "      <td>137.849771</td>\n",
       "      <td>233</td>\n",
       "    </tr>\n",
       "    <tr>\n",
       "      <th>2015-08-17 19:03:00</th>\n",
       "      <td>137.282758</td>\n",
       "      <td>234</td>\n",
       "    </tr>\n",
       "    <tr>\n",
       "      <th>2015-08-17 19:04:00</th>\n",
       "      <td>136.614057</td>\n",
       "      <td>235</td>\n",
       "    </tr>\n",
       "    <tr>\n",
       "      <th>2015-08-17 19:05:00</th>\n",
       "      <td>136.910739</td>\n",
       "      <td>236</td>\n",
       "    </tr>\n",
       "    <tr>\n",
       "      <th>2015-08-17 19:06:00</th>\n",
       "      <td>137.550025</td>\n",
       "      <td>237</td>\n",
       "    </tr>\n",
       "    <tr>\n",
       "      <th>2015-08-17 19:07:00</th>\n",
       "      <td>137.007851</td>\n",
       "      <td>238</td>\n",
       "    </tr>\n",
       "    <tr>\n",
       "      <th>2015-08-17 19:08:00</th>\n",
       "      <td>136.234328</td>\n",
       "      <td>239</td>\n",
       "    </tr>\n",
       "    <tr>\n",
       "      <th>2015-08-17 19:09:00</th>\n",
       "      <td>138.580143</td>\n",
       "      <td>240</td>\n",
       "    </tr>\n",
       "    <tr>\n",
       "      <th>2015-08-17 19:10:00</th>\n",
       "      <td>137.841395</td>\n",
       "      <td>241</td>\n",
       "    </tr>\n",
       "    <tr>\n",
       "      <th>2015-08-17 19:11:00</th>\n",
       "      <td>136.878368</td>\n",
       "      <td>242</td>\n",
       "    </tr>\n",
       "    <tr>\n",
       "      <th>2015-08-17 19:12:00</th>\n",
       "      <td>138.391577</td>\n",
       "      <td>243</td>\n",
       "    </tr>\n",
       "    <tr>\n",
       "      <th>2015-08-17 19:13:00</th>\n",
       "      <td>136.104338</td>\n",
       "      <td>244</td>\n",
       "    </tr>\n",
       "    <tr>\n",
       "      <th>2015-08-17 19:14:00</th>\n",
       "      <td>137.053626</td>\n",
       "      <td>245</td>\n",
       "    </tr>\n",
       "  </tbody>\n",
       "</table>\n",
       "</div>\n",
       "      <button class=\"colab-df-convert\" onclick=\"convertToInteractive('df-cb9bcbb0-5200-4b9c-968a-19934c6f459f')\"\n",
       "              title=\"Convert this dataframe to an interactive table.\"\n",
       "              style=\"display:none;\">\n",
       "        \n",
       "  <svg xmlns=\"http://www.w3.org/2000/svg\" height=\"24px\"viewBox=\"0 0 24 24\"\n",
       "       width=\"24px\">\n",
       "    <path d=\"M0 0h24v24H0V0z\" fill=\"none\"/>\n",
       "    <path d=\"M18.56 5.44l.94 2.06.94-2.06 2.06-.94-2.06-.94-.94-2.06-.94 2.06-2.06.94zm-11 1L8.5 8.5l.94-2.06 2.06-.94-2.06-.94L8.5 2.5l-.94 2.06-2.06.94zm10 10l.94 2.06.94-2.06 2.06-.94-2.06-.94-.94-2.06-.94 2.06-2.06.94z\"/><path d=\"M17.41 7.96l-1.37-1.37c-.4-.4-.92-.59-1.43-.59-.52 0-1.04.2-1.43.59L10.3 9.45l-7.72 7.72c-.78.78-.78 2.05 0 2.83L4 21.41c.39.39.9.59 1.41.59.51 0 1.02-.2 1.41-.59l7.78-7.78 2.81-2.81c.8-.78.8-2.07 0-2.86zM5.41 20L4 18.59l7.72-7.72 1.47 1.35L5.41 20z\"/>\n",
       "  </svg>\n",
       "      </button>\n",
       "      \n",
       "  <style>\n",
       "    .colab-df-container {\n",
       "      display:flex;\n",
       "      flex-wrap:wrap;\n",
       "      gap: 12px;\n",
       "    }\n",
       "\n",
       "    .colab-df-convert {\n",
       "      background-color: #E8F0FE;\n",
       "      border: none;\n",
       "      border-radius: 50%;\n",
       "      cursor: pointer;\n",
       "      display: none;\n",
       "      fill: #1967D2;\n",
       "      height: 32px;\n",
       "      padding: 0 0 0 0;\n",
       "      width: 32px;\n",
       "    }\n",
       "\n",
       "    .colab-df-convert:hover {\n",
       "      background-color: #E2EBFA;\n",
       "      box-shadow: 0px 1px 2px rgba(60, 64, 67, 0.3), 0px 1px 3px 1px rgba(60, 64, 67, 0.15);\n",
       "      fill: #174EA6;\n",
       "    }\n",
       "\n",
       "    [theme=dark] .colab-df-convert {\n",
       "      background-color: #3B4455;\n",
       "      fill: #D2E3FC;\n",
       "    }\n",
       "\n",
       "    [theme=dark] .colab-df-convert:hover {\n",
       "      background-color: #434B5C;\n",
       "      box-shadow: 0px 1px 3px 1px rgba(0, 0, 0, 0.15);\n",
       "      filter: drop-shadow(0px 1px 2px rgba(0, 0, 0, 0.3));\n",
       "      fill: #FFFFFF;\n",
       "    }\n",
       "  </style>\n",
       "\n",
       "      <script>\n",
       "        const buttonEl =\n",
       "          document.querySelector('#df-cb9bcbb0-5200-4b9c-968a-19934c6f459f button.colab-df-convert');\n",
       "        buttonEl.style.display =\n",
       "          google.colab.kernel.accessAllowed ? 'block' : 'none';\n",
       "\n",
       "        async function convertToInteractive(key) {\n",
       "          const element = document.querySelector('#df-cb9bcbb0-5200-4b9c-968a-19934c6f459f');\n",
       "          const dataTable =\n",
       "            await google.colab.kernel.invokeFunction('convertToInteractive',\n",
       "                                                     [key], {});\n",
       "          if (!dataTable) return;\n",
       "\n",
       "          const docLinkHtml = 'Like what you see? Visit the ' +\n",
       "            '<a target=\"_blank\" href=https://colab.research.google.com/notebooks/data_table.ipynb>data table notebook</a>'\n",
       "            + ' to learn more about interactive tables.';\n",
       "          element.innerHTML = '';\n",
       "          dataTable['output_type'] = 'display_data';\n",
       "          await google.colab.output.renderOutput(dataTable, element);\n",
       "          const docLink = document.createElement('div');\n",
       "          docLink.innerHTML = docLinkHtml;\n",
       "          element.appendChild(docLink);\n",
       "        }\n",
       "      </script>\n",
       "    </div>\n",
       "  </div>\n",
       "  "
      ],
      "text/plain": [
       "                     Forecasted Heart Rate  Minutes-No\n",
       "2015-08-17 18:55:00             137.488771         226\n",
       "2015-08-17 18:56:00             137.368578         227\n",
       "2015-08-17 18:57:00             139.193077         228\n",
       "2015-08-17 18:58:00             138.561571         229\n",
       "2015-08-17 18:59:00             137.752699         230\n",
       "2015-08-17 19:00:00             139.097356         231\n",
       "2015-08-17 19:01:00             136.870796         232\n",
       "2015-08-17 19:02:00             137.849771         233\n",
       "2015-08-17 19:03:00             137.282758         234\n",
       "2015-08-17 19:04:00             136.614057         235\n",
       "2015-08-17 19:05:00             136.910739         236\n",
       "2015-08-17 19:06:00             137.550025         237\n",
       "2015-08-17 19:07:00             137.007851         238\n",
       "2015-08-17 19:08:00             136.234328         239\n",
       "2015-08-17 19:09:00             138.580143         240\n",
       "2015-08-17 19:10:00             137.841395         241\n",
       "2015-08-17 19:11:00             136.878368         242\n",
       "2015-08-17 19:12:00             138.391577         243\n",
       "2015-08-17 19:13:00             136.104338         244\n",
       "2015-08-17 19:14:00             137.053626         245"
      ]
     },
     "execution_count": 325,
     "metadata": {},
     "output_type": "execute_result"
    }
   ],
   "source": [
    "forecasts[\"Minutes-No\"]= list(range(226,246))\n",
    "forecasts"
   ]
  },
  {
   "cell_type": "code",
   "execution_count": 329,
   "metadata": {
    "colab": {
     "base_uri": "https://localhost:8080/",
     "height": 495
    },
    "executionInfo": {
     "elapsed": 621,
     "status": "ok",
     "timestamp": 1645198082750,
     "user": {
      "displayName": "Akinsola Amudah",
      "photoUrl": "https://lh3.googleusercontent.com/a-/AOh14GhaGpO_NfwGsAReqgHVMP8daYhpObnevoOrkAP3Hg=s64",
      "userId": "00854507567321069616"
     },
     "user_tz": 0
    },
    "id": "pObMTcaXGbL-",
    "outputId": "5193b5ff-f85a-4d2d-9745-c655dea55ce0"
   },
   "outputs": [
    {
     "data": {
      "image/png": "[encoded data removed]",
      "text/plain": [
       "<Figure size 1440x576 with 1 Axes>"
      ]
     },
     "metadata": {
      "needs_background": "light"
     },
     "output_type": "display_data"
    }
   ],
   "source": [
    "# plotting code\n",
    "ax = df[\"Lifetouch Heart Rate\"].plot(label='observed', figsize=(20, 8))\n",
    "forecasts[\"Forecasted Heart Rate\"].plot(ax=ax, label='Forecast', alpha=.7)\n",
    "\n",
    "ax.set_ylabel('Lifetouch Heart Rate')\n",
    "\n",
    "plt.legend()\n",
    "\n",
    "plt.show()"
   ]
  }
 ],
 "metadata": {
  "colab": {
   "authorship_tag": "ABX9TyObP3Dfmk9Pty30o8+6NnXt",
   "collapsed_sections": [],
   "name": "Heart Rate Prediction Competition.ipynb",
   "provenance": []
  },
  "kernelspec": {
   "display_name": "Python 3 (ipykernel)",
   "language": "python",
   "name": "python3"
  },
  "language_info": {
   "codemirror_mode": {
    "name": "ipython",
    "version": 3
   },
   "file_extension": ".py",
   "mimetype": "text/x-python",
   "name": "python",
   "nbconvert_exporter": "python",
   "pygments_lexer": "ipython3",
   "version": "3.9.13"
  }
 },
 "nbformat": 4,
 "nbformat_minor": 1
}
